{
 "cells": [
  {
   "cell_type": "code",
   "execution_count": null,
   "metadata": {
    "ExecuteTime": {
     "end_time": "2019-04-15T16:56:01.259381Z",
     "start_time": "2019-04-15T16:56:01.201614Z"
    },
    "collapsed": true
   },
   "outputs": [],
   "source": [
    "# change working directory to the project root\n",
    "import os\n",
    "os.chdir('../../')\n",
    "\n",
    "import sys\n",
    "sys.path.append('models/utils')\n",
    "sys.path.append('models/brian2')\n",
    "sys.path.append('models/aln')"
   ]
  },
  {
   "cell_type": "code",
   "execution_count": null,
   "metadata": {
    "ExecuteTime": {
     "end_time": "2019-04-15T16:56:18.895304Z",
     "start_time": "2019-04-15T16:56:01.848069Z"
    },
    "collapsed": true
   },
   "outputs": [],
   "source": [
    "# import python packages\n",
    "from __future__ import print_function\n",
    "import os\n",
    "import datetime\n",
    "import tqdm\n",
    "import matplotlib.pyplot as plt\n",
    "% matplotlib inline\n",
    "import numpy as np\n",
    "import scipy \n",
    "import pandas as pd\n",
    "import pypet as pp\n",
    "\n",
    "# import utils libs\n",
    "import pypet_parameters as pe\n",
    "import fitparams as fp\n",
    "import functions as func\n",
    "import runModels as rm\n",
    "import paths"
   ]
  },
  {
   "cell_type": "code",
   "execution_count": null,
   "metadata": {
    "ExecuteTime": {
     "end_time": "2019-04-15T16:56:18.910873Z",
     "start_time": "2019-04-15T16:56:18.897918Z"
    },
    "collapsed": true
   },
   "outputs": [],
   "source": [
    "# sett dpi for notebooks on server\n",
    "plt.rcParams['svg.fonttype'] = 'none'\n",
    "plt.rcParams['savefig.dpi'] = 300\n",
    "plt.rcParams['image.cmap'] = 'plasma'"
   ]
  },
  {
   "cell_type": "code",
   "execution_count": null,
   "metadata": {
    "ExecuteTime": {
     "end_time": "2019-04-19T00:49:30.336135Z",
     "start_time": "2019-04-19T00:49:30.320893Z"
    },
    "collapsed": true
   },
   "outputs": [],
   "source": [
    "params = []\n",
    "params = fp.loadpoint(params, \"A2\")\n",
    "\n",
    "params['dt'] = 0.1\n",
    "params['duration'] =  6000 \n",
    "params['sigma_ou'] = 0.0\n",
    "\n",
    "\n",
    "N_neurons = 10000\n",
    "params['N'] = N_neurons\n",
    "params['model'] = 'aln'"
   ]
  },
  {
   "cell_type": "markdown",
   "metadata": {},
   "source": [
    "# Parameter exploration"
   ]
  },
  {
   "cell_type": "code",
   "execution_count": null,
   "metadata": {
    "ExecuteTime": {
     "end_time": "2019-04-19T01:54:27.688282Z",
     "start_time": "2019-04-19T01:54:27.672013Z"
    },
    "collapsed": true
   },
   "outputs": [],
   "source": [
    "# explore the following parameter combinations\n",
    "parametrizationA2 = pp.cartesian_product({\n",
    "    'f_sin':[ round(elem, 5) for elem in np.linspace(1, 70, 70)],\n",
    "    'A_sin':[ 0.2, 0.4, 0.8, 1.0, 1.2, 1.4],\n",
    "    'model':[ 'aln', 'brian' ],\n",
    "    'load_point':[ 'A2' ]\n",
    "})\n",
    "\n",
    "parametrization = parametrizationA2.copy()"
   ]
  },
  {
   "cell_type": "code",
   "execution_count": null,
   "metadata": {
    "ExecuteTime": {
     "end_time": "2019-04-19T01:54:28.131101Z",
     "start_time": "2019-04-19T01:54:28.121985Z"
    },
    "collapsed": true
   },
   "outputs": [],
   "source": [
    "print(\"Number of parameter configurations: {}\".format(len(parametrization[parametrization.keys()[0]])))"
   ]
  },
  {
   "cell_type": "markdown",
   "metadata": {},
   "source": [
    "## Run simulations"
   ]
  },
  {
   "cell_type": "code",
   "execution_count": null,
   "metadata": {
    "ExecuteTime": {
     "end_time": "2019-04-19T01:54:29.340548Z",
     "start_time": "2019-04-19T01:54:29.108986Z"
    },
    "collapsed": true
   },
   "outputs": [],
   "source": [
    "# ---- initialize pypet environment ----\n",
    "trajectoryName = 'results' + datetime.datetime.now().strftime(\"-%Y-%m-%d-%HH-%MM-%SS\")\n",
    "HDF_FILE = os.path.join(paths.HDF_DIR, 'frequency-entrainment-adex-aln.hdf')\n",
    "trajectoryFileName = HDF_FILE\n",
    "\n",
    "import multiprocessing\n",
    "ncores = multiprocessing.cpu_count()\n",
    "print(\"Number of cores: {}\".format(ncores))\n",
    "\n",
    "\n",
    "\n",
    "env = pp.Environment(trajectory=trajectoryName,filename=trajectoryFileName,\n",
    "                    file_title='frequency entrainment',\n",
    "                    large_overview_tables=True,\n",
    "                    multiproc=True,           \n",
    "                    ncores=ncores,\n",
    "                    wrap_mode='QUEUE',\n",
    "                    log_stdout = False\n",
    "                    )\n",
    "\n",
    "# Get the trajectory from the environment\n",
    "traj = env.v_trajectory\n",
    "trajectoryName = traj.v_name\n",
    "\n",
    "pe.add_parameters(traj, params)"
   ]
  },
  {
   "cell_type": "code",
   "execution_count": null,
   "metadata": {
    "ExecuteTime": {
     "end_time": "2019-04-19T02:06:18.120455Z",
     "start_time": "2019-04-19T02:00:22.411146Z"
    },
    "collapsed": true
   },
   "outputs": [],
   "source": [
    "traj.f_explore(parametrization)\n",
    "env.f_run(rm.runModels_stimulus)\n",
    "env.f_disable_logging()\n",
    "print(\"Done.\")"
   ]
  },
  {
   "cell_type": "markdown",
   "metadata": {},
   "source": [
    "# Data processing"
   ]
  },
  {
   "cell_type": "markdown",
   "metadata": {},
   "source": [
    "## Load results from disk"
   ]
  },
  {
   "cell_type": "code",
   "execution_count": null,
   "metadata": {
    "ExecuteTime": {
     "end_time": "2019-04-19T02:15:08.635725Z",
     "start_time": "2019-04-19T02:15:08.631547Z"
    },
    "collapsed": true
   },
   "outputs": [],
   "source": [
    "HDF_FILE = os.path.join(paths.HDF_DIR, 'frequency-entrainment-adex-aln.hdf')\n",
    "trajectoryFileName = HDF_FILE"
   ]
  },
  {
   "cell_type": "code",
   "execution_count": null,
   "metadata": {
    "ExecuteTime": {
     "end_time": "2019-04-19T02:15:37.980684Z",
     "start_time": "2019-04-19T02:15:08.813828Z"
    },
    "collapsed": true
   },
   "outputs": [],
   "source": [
    "# ---- load pypet trajectory \"trajectoryFileName\" ----\n",
    "print(\"Analyzing File \\\"{}\\\"\".format(trajectoryFileName))\n",
    "print(\"All Trajectories:\")\n",
    "print(pe.getTrajectoryNameInsideFile(trajectoryFileName))\n",
    "trajectoryName = pe.getTrajectoryNameInsideFile(trajectoryFileName)[-1]\n",
    "\n",
    "print(\"Analyzing trajectory \\\"{}\\\".\".format(trajectoryName))\n",
    "trajLoaded = pp.Trajectory(trajectoryName,add_time=False)\n",
    "trajLoaded.f_load(trajectoryName,filename=trajectoryFileName, force=True)\n",
    "trajLoaded.v_auto_load = True\n",
    "print(\"{} results found\".format(len(trajLoaded.f_get_results())))"
   ]
  },
  {
   "cell_type": "markdown",
   "metadata": {},
   "source": [
    "## Process data"
   ]
  },
  {
   "cell_type": "code",
   "execution_count": null,
   "metadata": {
    "ExecuteTime": {
     "end_time": "2019-04-19T02:15:37.996758Z",
     "start_time": "2019-04-19T02:15:37.983128Z"
    },
    "collapsed": true
   },
   "outputs": [],
   "source": [
    "nResults = len(trajLoaded.f_get_run_names()) # number of results in trajectory \n",
    "dt = trajLoaded.f_get_parameters()['parameters.simulation.dt'].f_get() # dt of simulation\n",
    "\n",
    "# ---- explored parameter list ----\n",
    "exploredParameters = trajLoaded.f_get_explored_parameters()\n",
    "niceParKeys = [p.split('.')[-1] for p in exploredParameters.keys()]\n",
    "\n",
    "# ---- lcreate pandas df with results as keys ----\n",
    "dfResults = pd.DataFrame(columns=niceParKeys,dtype=object)\n",
    "\n",
    "# range of parameters\n",
    "for nicep, p in zip(niceParKeys,exploredParameters.keys()):\n",
    "    dfResults[nicep] = exploredParameters[p].f_get_range()"
   ]
  },
  {
   "cell_type": "markdown",
   "metadata": {},
   "source": [
    "### Serial Processing"
   ]
  },
  {
   "cell_type": "code",
   "execution_count": null,
   "metadata": {
    "ExecuteTime": {
     "end_time": "2019-04-19T02:15:41.293086Z",
     "start_time": "2019-04-19T02:15:37.997991Z"
    },
    "collapsed": true
   },
   "outputs": [],
   "source": [
    "# ---- make a dictionary with results ----\n",
    "resultDicts = []\n",
    "\n",
    "measures = ['spectrum']\n",
    "\n",
    "for rInd in tqdm.tqdm(range(nResults), total=nResults):\n",
    "    res = trajLoaded.results[rInd].f_to_dict()\n",
    "    for measure in measures:\n",
    "        res['spectrum'] = func.analyse_run(measure, res, dt)\n",
    "        res['stimulation'] = [dfResults.loc[rInd, 'A_sin'], dfResults.loc[rInd, 'f_sin']]     \n",
    "        resultDicts.append(res)\n",
    "            \n",
    "print(\"done.\")"
   ]
  },
  {
   "cell_type": "markdown",
   "metadata": {},
   "source": [
    "# Plot data"
   ]
  },
  {
   "cell_type": "code",
   "execution_count": null,
   "metadata": {
    "ExecuteTime": {
     "end_time": "2019-04-19T02:06:24.087068Z",
     "start_time": "2019-04-19T02:06:21.991500Z"
    },
    "collapsed": true,
    "scrolled": false
   },
   "outputs": [],
   "source": [
    "A_sin_range = trajLoaded.f_get('parameters.localNetwork.A_sin').f_get_range()\n",
    "load_point_range = trajLoaded.f_get('parameters.localNetwork.load_point').f_get_range()\n",
    "\n",
    "from matplotlib.colors import LogNorm\n",
    "\n",
    "for point in np.unique(load_point_range):\n",
    "    for stim_amp in np.unique(A_sin_range):\n",
    "        for model in ['aln', 'brian']:\n",
    "            selector = (dfResults.A_sin==stim_amp) & (dfResults.model==model) & (dfResults.load_point==point)\n",
    "            selectedResults = dfResults[selector]\n",
    "            selectIndices = selectedResults.index\n",
    "            \n",
    "            f_sin_range = np.unique(selectedResults.f_sin)\n",
    "            \n",
    "            # spectrum plot -----------\n",
    "\n",
    "            thisResults = []\n",
    "            for ind in selectIndices:\n",
    "                power = resultDicts[ind]['spectrum'][1]\n",
    "                frequency = resultDicts[ind]['spectrum'][0]\n",
    "                power = power[0:len(frequency)]\n",
    "                \n",
    "                thisResults.append(power)\n",
    "\n",
    "            plt.figure(dpi=300, figsize=(3, 2.0))\n",
    "            \n",
    "            ax = plt.gca()\n",
    "            plt.title(\"Point: {} Model: {} Amp: {} mV/ms\".format(point, model, stim_amp))\n",
    "            plt.imshow(np.array(thisResults).T, origin='lower', aspect='auto', norm=LogNorm(vmin=0.01, vmax=1),\n",
    "                                                                                           extent=[f_sin_range[0],\n",
    "                                                                                           f_sin_range[-1],\n",
    "                                                                                           f_sin_range[0],\n",
    "                                                                                           f_sin_range[-1]])\n",
    "\n",
    "            plt.xlabel(\"Stimulation frequency [Hz]\")\n",
    "            plt.ylabel(\"Spectrum [Hz]\")\n",
    "            \n",
    "            # temp: for reading plots precisely, remove for paper plot\n",
    "            #plt.locator_params(axis='x', nbins=70)\n",
    "            #plt.xticks(fontsize=4, rotation=90)\n",
    "            #plt.grid() \n",
    "            #cbar = plt.colorbar(ticks=[0.00001, 1])\n",
    "            #cbar.ax.set_yticklabels(['0', '1']) \n",
    "            \n",
    "            # point label\n",
    "            bbox_props = dict(boxstyle=\"circle\", fc=\"w\", ec=\"0.5\", pad=0.2, alpha=0.9)\n",
    "            ax.text(0.08, 0.88, point, ha=\"center\",transform=ax.transAxes, va=\"center\", size=10, bbox=bbox_props)\n",
    "            \n",
    "            # amplitude label\n",
    "            ax.text(0.92,0.85, \"{} pA\".format(int(stim_amp*200)), fontweight='regular', transform=ax.transAxes, ha='right', #style='italic',\n",
    "                    bbox={'facecolor':'white', 'alpha':0.85, 'pad':5}, fontsize=8)\n",
    "            \n",
    "            plt.show()    \n",
    "\n",
    "            if (1 == 0):\n",
    "                # amplitude plots -----------\n",
    "                thisMaxima = []\n",
    "                thisMinima = []\n",
    "                for ind in selectIndices:\n",
    "                    thisMaxima.append(resultDicts[ind]['amplitudes'][0])\n",
    "                    thisMinima.append(resultDicts[ind]['amplitudes'][1])\n",
    "\n",
    "                for ma, mi, i in zip(thisMaxima, thisMinima, selectIndices):\n",
    "                    #print(i, m)\n",
    "                    for maximum in ma[::10]:\n",
    "                        if maximum > 25:\n",
    "                            plt.scatter(i/3, maximum, zorder=-1, c='C3', alpha=0.2, s=0.8)\n",
    "\n",
    "                    for minimum in mi[::10]:\n",
    "                            plt.scatter(i/3, minimum, zorder=-1, c='C0', alpha=0.2, s=0.8)\n",
    "                plt.xlim(0, 70)\n",
    "                plt.show()"
   ]
  }
 ],
 "metadata": {
  "kernelspec": {
   "display_name": "Python 2",
   "language": "python",
   "name": "python2"
  },
  "language_info": {
   "codemirror_mode": {
    "name": "ipython",
    "version": 2
   },
   "file_extension": ".py",
   "mimetype": "text/x-python",
   "name": "python",
   "nbconvert_exporter": "python",
   "pygments_lexer": "ipython2",
   "version": "2.7.13"
  },
  "toc": {
   "nav_menu": {},
   "number_sections": true,
   "sideBar": true,
   "skip_h1_title": false,
   "toc_cell": false,
   "toc_position": {},
   "toc_section_display": "block",
   "toc_window_display": true
  }
 },
 "nbformat": 4,
 "nbformat_minor": 2
}
