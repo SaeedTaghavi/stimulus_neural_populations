{
 "cells": [
  {
   "cell_type": "markdown",
   "metadata": {},
   "source": [
    "# Definitions"
   ]
  },
  {
   "cell_type": "code",
   "execution_count": null,
   "metadata": {
    "ExecuteTime": {
     "end_time": "2019-04-15T21:49:27.530604Z",
     "start_time": "2019-04-15T21:49:27.521307Z"
    },
    "collapsed": true
   },
   "outputs": [],
   "source": [
    "# change working directory to the project root\n",
    "import os\n",
    "os.chdir('../../')\n",
    "\n",
    "import sys\n",
    "sys.path.append('models/utils')\n",
    "sys.path.append('models/brian2')\n",
    "sys.path.append('models/aln')"
   ]
  },
  {
   "cell_type": "code",
   "execution_count": null,
   "metadata": {
    "ExecuteTime": {
     "end_time": "2019-04-15T21:49:33.102066Z",
     "start_time": "2019-04-15T21:49:28.329182Z"
    },
    "collapsed": true
   },
   "outputs": [],
   "source": [
    "import os\n",
    "import time\n",
    "import matplotlib.pyplot as plt\n",
    "% matplotlib inline\n",
    "import numpy as np\n",
    "import scipy.signal\n",
    "import pickle\n",
    "\n",
    "import fitparams as fp\n",
    "import functions as func\n",
    "import runModels as rm\n",
    "import paths"
   ]
  },
  {
   "cell_type": "code",
   "execution_count": null,
   "metadata": {
    "ExecuteTime": {
     "end_time": "2019-04-15T21:49:33.106158Z",
     "start_time": "2019-04-15T21:49:33.103621Z"
    },
    "collapsed": true
   },
   "outputs": [],
   "source": [
    "# sett dpi for notebooks on server\n",
    "plt.rcParams['svg.fonttype'] = 'none'\n",
    "plt.rcParams['savefig.dpi'] = 300\n",
    "plt.rcParams['image.cmap'] = 'plasma'"
   ]
  },
  {
   "cell_type": "code",
   "execution_count": null,
   "metadata": {
    "ExecuteTime": {
     "end_time": "2019-04-18T23:23:10.657804Z",
     "start_time": "2019-04-18T23:23:10.642862Z"
    },
    "collapsed": true
   },
   "outputs": [],
   "source": [
    "N_neurons = 50000\n",
    "\n",
    "params = []\n",
    "params = fp.loadpoint(params, 'A2')\n",
    "\n",
    "params['dt'] = 0.1\n",
    "params['duration'] = 3000.0\n",
    "params['sigma_ou'] = 0.0\n",
    "params['model'] = 'brian'\n",
    "params['N'] = N_neurons\n",
    "results = {}"
   ]
  },
  {
   "cell_type": "code",
   "execution_count": null,
   "metadata": {
    "ExecuteTime": {
     "end_time": "2019-04-18T23:23:11.521101Z",
     "start_time": "2019-04-18T23:23:11.426130Z"
    },
    "collapsed": true
   },
   "outputs": [],
   "source": [
    "def construct_stimulus(stim = 'dc', stim_amp = 0.2,  stim_freq = 1, stim_bias = 0, n_periods = 0, nostim_before = 0, nostim_after = 0):\n",
    "    \n",
    "    def sinus_stim(f = 1, sinus_amplitude = 0.2, positive = 0, phase = 0, cycles = 1, t_pause = 0):\n",
    "        x = np.linspace(np.pi, -np.pi, 1000 / params['dt'] / f)\n",
    "        sinus_function = np.hstack(((np.sin(x + phase) + positive) / 2 ,np.tile(0, t_pause)))\n",
    "        sinus_function *= sinus_amplitude\n",
    "        return np.tile(sinus_function, cycles)\n",
    "\n",
    "    if stim == 'ac':\n",
    "        if n_periods == 0:\n",
    "            n_periods = int(stim_freq) * 1\n",
    "        stimulus = np.hstack(([stim_bias]*int(nostim_before / params['dt']), np.tile(sinus_stim(stim_freq, stim_amp) + stim_bias, n_periods)))\n",
    "        stimulus = np.hstack((stimulus, [stim_bias]*int(nostim_after / params['dt'])))\n",
    "        \n",
    "    elif stim == 'cc':\n",
    "        chirp = scipy.signal.chirp(np.linspace(0, 1, 40000), 2, 1, 25 ,phi=270)\n",
    "        #plt.plot(np.linspace(0, 1, 10000), chirp)\n",
    "        stimulus = np.hstack(([stim_bias]*int(2000 / params['dt']), np.tile(chirp, 1)))\n",
    "    elif stim == 'dc':\n",
    "        stimulus = np.hstack(([stim_bias]*int(nostim_before / params['dt']), [stim_bias+stim_amp]*int(1000 / params['dt'])))\n",
    "        stimulus = np.hstack((stimulus, [stim_bias]*int(nostim_after / params['dt'])))\n",
    "        stimulus[stimulus<0] = 0\n",
    "    elif stim == 'rect':\n",
    "        one_stim = np.repeat(stim_amp, int(330 / params['dt']))\n",
    "        time_before_stim = nostim_before\n",
    "        time_after_stim = 330\n",
    "        step_length = 330\n",
    "        \n",
    "        before_stimulus = [stim_bias]*int(nostim_before / params['dt']) # largely nothing but a small kick to ensure it's in the down state\n",
    "        impulse_length = 200\n",
    "        before_stimulus[len(before_stimulus)/2-impulse_length/2:len(before_stimulus)/2+impulse_length/2] = np.repeat(stim_bias-1.0, impulse_length)\n",
    "        stimulus = np.hstack((before_stimulus, [stim_bias+stim_amp]*int(step_length / params['dt'])))\n",
    "        \n",
    "        stim_increase_counter = 0\n",
    "        stim_step_increase = 0.0035\n",
    "        for i in range(int(step_length / params['dt'])/2):\n",
    "            stimulus[-int(step_length / params['dt'])/2+i] = np.exp(-stim_increase_counter)*stim_amp\n",
    "            stim_increase_counter += stim_step_increase\n",
    "            \n",
    "        stimulus = np.hstack((stimulus, [stim_bias]*int(step_length / params['dt'])))\n",
    "        stimulus = np.hstack((stimulus, [stim_bias-stim_amp]*int(step_length / params['dt'])))\n",
    "        \n",
    "        stim_increase_counter = 0\n",
    "        for i in range(int(step_length / params['dt'])/2):\n",
    "            stimulus[-int(step_length / params['dt'])/2+i] = -np.exp(-stim_increase_counter)*stim_amp\n",
    "            stim_increase_counter += stim_step_increase\n",
    "                    \n",
    "        \n",
    "        stimulus = np.hstack((stimulus, [stim_bias]*int(step_length / params['dt'])))\n",
    "        if n_periods > 0:\n",
    "            stimulus = np.tile(stimulus, n_periods)\n",
    "    else:\n",
    "        print(\"ERROR, stim protocol {} not found\")\n",
    "    \n",
    "    # repeat stimulus until full length\n",
    "    steps = int(params['duration']/params['dt'])\n",
    "    stimlength = int(len(stimulus))\n",
    "    #print(\"steps: {} stimlength {} repeat: {}\".format(steps,stimlength,steps/stimlength+1))\n",
    "    stimulus = np.tile(stimulus, steps/stimlength+2)\n",
    "    stimulus = stimulus[:steps]\n",
    "    \n",
    "    return stimulus"
   ]
  },
  {
   "cell_type": "markdown",
   "metadata": {},
   "source": [
    "# Load analyzed data"
   ]
  },
  {
   "cell_type": "code",
   "execution_count": null,
   "metadata": {
    "ExecuteTime": {
     "end_time": "2019-04-18T23:23:15.921503Z",
     "start_time": "2019-04-18T23:23:15.918918Z"
    },
    "collapsed": true
   },
   "outputs": [],
   "source": [
    "# uncomment to load results from disk\n",
    "file_path_p = os.path.join(paths.PICKLE_DIR, 'stimulus-all-results.p')\n",
    "#results = pickle.load(file(file_path_p, \"r\"))"
   ]
  },
  {
   "cell_type": "markdown",
   "metadata": {},
   "source": [
    "# Plot data"
   ]
  },
  {
   "cell_type": "code",
   "execution_count": null,
   "metadata": {
    "ExecuteTime": {
     "end_time": "2019-04-19T01:42:39.710587Z",
     "start_time": "2019-04-18T23:23:31.510852Z"
    },
    "collapsed": true,
    "scrolled": false
   },
   "outputs": [],
   "source": [
    "points = ['A1', 'A2', 'A3', 'B3', 'B4']\n",
    "protocols = ['dc', 'dc', 'rect', 'ac', 'ac']\n",
    "amps = [0.3, 0.2, 0.5, 0.4, 0.4]\n",
    "freqs = [2, 2, 3, 3, 4]\n",
    "\n",
    "import string\n",
    "titles = string.ascii_lowercase\n",
    "\n",
    "nrows = len(points)\n",
    "ncols = 2\n",
    "\n",
    "\n",
    "\n",
    "f, axs = plt.subplots(nrows, ncols, figsize=(4.0, 3.5), dpi=600)\n",
    "\n",
    "counter = 0\n",
    "for ip, p in enumerate(points):\n",
    "    \n",
    "    point = p\n",
    "    stim = protocols[ip]\n",
    "    stim_amp = amps[ip]\n",
    "    stim_freq = freqs[ip]\n",
    "    stim_bias = 0   \n",
    "    nostim_time = 1000\n",
    "    timeshift_B4 = 0\n",
    "    \n",
    "\n",
    "\n",
    "    for im, model in enumerate(['aln', 'net']):\n",
    "        \n",
    "        k = counter / ncols\n",
    "        p = counter % ncols    \n",
    "        #print(k,p)\n",
    "        \n",
    "        title = titles[counter]\n",
    "        print('{}) {} point {}'.format(title, model, point))\n",
    "        \n",
    "        start = time.time()\n",
    "        \n",
    "        if point == 'B3': # phase entrainment plot\n",
    "            # Phase entrainment plot is informative only if the stimulus and \n",
    "            # the ongoing oscillation have an initial phase difference. \n",
    "            # Unfortunately, that value is not easily controllable for so it\n",
    "            # might need a few runs until a sensible plot emerges.\n",
    "            if model == 'aln':\n",
    "                nostim_time = 1280\n",
    "            else:\n",
    "                nostim_time = 1280\n",
    "        n_periods = 4 if point =='B3' else 0 # more periods for phase entrainment plot\n",
    "\n",
    "        \n",
    "        if model == 'aln' and (title not in results):\n",
    "            params = fp.loadpoint(params, point, newIC=False)\n",
    "            params['sigma_ou'] = 0.0\n",
    "            params['duration'] = 3000.0\n",
    "            params['model'] = 'aln'\n",
    "            stimulus = construct_stimulus(stim, stim_amp = stim_amp, stim_freq=stim_freq, nostim_before=nostim_time, n_periods=n_periods)\n",
    "            params['ext_exc_current'] = stimulus \n",
    "            \n",
    "            t, rates_exc, rates_inh, stimulus = rm.runModels(manual_params=params)\n",
    "            t/=1000\n",
    "                 \n",
    "        elif model == 'net' and (title not in results):\n",
    "            params = fp.loadpoint_network(params, point)\n",
    "            params['sigma_ou'] = 0.0\n",
    "            params['duration'] = 3000.0            \n",
    "            params['N'] = N_neurons\n",
    "            params['model'] = 'brian'\n",
    "            stimulus = construct_stimulus(stim, stim_amp = stim_amp, stim_freq=stim_freq, nostim_before=nostim_time, n_periods=n_periods)\n",
    "            params['ext_exc_current'] = stimulus \n",
    "            \n",
    "            t, rates_exc, rates_inh, stimulus = rm.runModels(manual_params=params)\n",
    "            t/=1000\n",
    "            \n",
    "        else:\n",
    "            print(\"loading precomputed result ...\")\n",
    "            t, rates_exc, stimulus = results[title]['t'].copy(), results[title]['rates_exc'].copy(), results[title]['stimulus'].copy()\n",
    "        \n",
    "        end = time.time()\n",
    "        print(\"Took %f seconds\"%((end - start)))\n",
    "        \n",
    "        #t/=1000.0\n",
    "        plotrange = [0.8, 2.2]\n",
    "        if title in ['c', 'd']: plotrange = [0.8, 2.8]\n",
    "        if title in ['g', 'h']: plotrange = [0.8, 3.6]\n",
    "            \n",
    "        plotIndex = (t>plotrange[0])&(t<plotrange[1])\n",
    "        axs[ip,im].plot(t[plotIndex], rates_exc[plotIndex], lw=1.2, c='k') \n",
    "        \n",
    "        \n",
    "        # STIMULUS PLOT\n",
    "        ax_stimulus = axs[ip,im].twinx()\n",
    "        stimulus = np.tile(stimulus, 2)\n",
    "        stimulus = stimulus[:len(t)]\n",
    "        ax_stimulus.plot(t[plotIndex], stimulus[plotIndex]*200, c='C3', lw=1.5, alpha=0.7)  \n",
    "        \n",
    "        ax_stimulus.spines['right'].set_visible(False)\n",
    "        ax_stimulus.spines['top'].set_visible(False)\n",
    "        ax_stimulus.spines['bottom'].set_visible(False)\n",
    "        ax_stimulus.spines['left'].set_visible(False)\n",
    "        ax_stimulus.tick_params(direction='out', length=4, width=1, colors='k', labelsize=4)\n",
    "        ax_stimulus.tick_params('y', colors='C3')\n",
    "        \n",
    "        ax_stimulus.set_ylim(np.round(np.min(stimulus[plotIndex]*200), 2)*1.5-0.01*200, np.round(np.max(stimulus[plotIndex]*200), 2)*1.2)\n",
    "        \n",
    "        if im==1:\n",
    "            stim_axis_amp = stim_amp\n",
    "            if stim == 'ac': stim_axis_amp /= 2\n",
    "            ax_stimulus.set_yticks([0, stim_axis_amp*200])\n",
    "        else: \n",
    "            ax_stimulus.set_yticks([])\n",
    "        \n",
    "        \n",
    "        results[title] = {'t' : t, 'rates_exc' : rates_exc, 'stimulus': stimulus}\n",
    "        \n",
    "        \n",
    "        # subfigure titles\n",
    "        axs[k,p].text(-0.1, 0.98, title, horizontalalignment='center', size=10,\n",
    "            verticalalignment='center', transform=axs[k,p].transAxes, fontdict={'weight':'regular'})  \n",
    "        \n",
    "        # point labels\n",
    "        if im==0:\n",
    "            bbox_props = dict(boxstyle=\"circle\", fc=\"w\", ec=\"0.5\", pad=0.2, alpha=0.9)\n",
    "            axs[k,p].text(0.05, 0.98, point, ha=\"center\",transform=axs[k,p].transAxes, va=\"center\", size=6, bbox=bbox_props)\n",
    "\n",
    "        # stimulus amps\n",
    "        #axs[k,p].text(0.85, 0.95, stim_amp, ha=\"center\",transform=axs[k,p].transAxes, va=\"center\", size=6, color='b')\n",
    "\n",
    "        \n",
    "        # Hide the right and top spines\n",
    "        axs[k,p].spines['right'].set_visible(False)\n",
    "        axs[k,p].spines['top'].set_visible(False)\n",
    "        axs[k,p].spines['bottom'].set_visible(False)\n",
    "        axs[k,p].spines['left'].set_visible(False)\n",
    "        axs[k,p].tick_params(direction='out', length=4, width=1, colors='k', labelsize=4)\n",
    "        \n",
    "        axs[k,p].set_xticks([1.0, 2.0])\n",
    "        #axs[k,p].set_ylim(-25, np.max(rates_exc[(t>1000)&(t<2000)])*1.1)\n",
    "        \n",
    "        counter+=1\n",
    "    \n",
    "\n",
    "\n",
    "# hacks\n",
    "axs[0,0].set_yticks([0,  5])\n",
    "axs[0,1].set_yticks([0,  10])\n",
    "\n",
    "#axs[1,0].set_yticks([0,  20])\n",
    "#axs[1,1].set_yticks([0,  100])\n",
    "\n",
    "axs[1,0].set_yticks([0,  20])\n",
    "axs[1,1].set_yticks([0,  60])\n",
    "\n",
    "axs[2,0].set_yticks([0,  30])\n",
    "axs[2,1].set_yticks([0,  30])\n",
    "\n",
    "axs[3,0].set_yticks([0,  25])\n",
    "axs[3,1].set_yticks([0,  25])\n",
    "\n",
    "axs[4,0].set_yticks([0,  25])\n",
    "axs[4,1].set_yticks([0,  25])\n",
    "\n",
    "axs[4,0].set_xlabel(\"Time [s]\", fontsize=6)\n",
    "axs[4,1].set_xlabel(\"Time [s]\", fontsize=6)\n",
    "axs[4,0].set_ylabel(\"Rate [Hz]\", fontsize=6)\n",
    "ax_stimulus.set_ylabel(\"Stimulus [pA]\", fontsize=6, color='C3')\n",
    "\n",
    "\n",
    "\n",
    "plt.text(0.27, 1.03, 'Mean-Field', transform=f.transFigure, ha='center',weight=\"bold\")\n",
    "plt.text(0.735, 1.03, 'AdEx Network', transform=f.transFigure, ha='center',weight=\"bold\")\n",
    "\n",
    "plt.tight_layout(pad=0.1, h_pad=0.5)       \n",
    "\n",
    "for extension in ['png', 'svg', 'jpg']:\n",
    "    plt.savefig(os.path.join(paths.FIGURES_DIR, \"stimulus-all.{}\".format(extension)))"
   ]
  },
  {
   "cell_type": "markdown",
   "metadata": {},
   "source": [
    "# Save analyzed data"
   ]
  },
  {
   "cell_type": "code",
   "execution_count": null,
   "metadata": {
    "ExecuteTime": {
     "end_time": "2019-04-24T15:06:09.948797Z",
     "start_time": "2019-04-24T15:06:09.521940Z"
    },
    "collapsed": true
   },
   "outputs": [],
   "source": [
    "# uncomment to save results to disk\n",
    "file_path_p = os.path.join(paths.PICKLE_DIR, 'stimulus-all-results.p')\n",
    "#pickle.dump(results, file(file_path_p, \"w\"))"
   ]
  }
 ],
 "metadata": {
  "kernelspec": {
   "display_name": "Python 2",
   "language": "python",
   "name": "python2"
  },
  "language_info": {
   "codemirror_mode": {
    "name": "ipython",
    "version": 2
   },
   "file_extension": ".py",
   "mimetype": "text/x-python",
   "name": "python",
   "nbconvert_exporter": "python",
   "pygments_lexer": "ipython2",
   "version": "2.7.13"
  },
  "latex_envs": {
   "LaTeX_envs_menu_present": true,
   "autocomplete": true,
   "bibliofile": "biblio.bib",
   "cite_by": "apalike",
   "current_citInitial": 1,
   "eqLabelWithNumbers": true,
   "eqNumInitial": 1,
   "hotkeys": {
    "equation": "Ctrl-E",
    "itemize": "Ctrl-I"
   },
   "labels_anchors": false,
   "latex_user_defs": false,
   "report_style_numbering": false,
   "user_envs_cfg": false
  },
  "toc": {
   "nav_menu": {},
   "number_sections": true,
   "sideBar": true,
   "skip_h1_title": false,
   "toc_cell": false,
   "toc_position": {},
   "toc_section_display": "block",
   "toc_window_display": false
  }
 },
 "nbformat": 4,
 "nbformat_minor": 2
}
