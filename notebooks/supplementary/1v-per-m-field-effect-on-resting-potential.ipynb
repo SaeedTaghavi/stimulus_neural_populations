{
 "cells": [
  {
   "cell_type": "code",
   "execution_count": 2,
   "metadata": {},
   "outputs": [],
   "source": [
    "# change working directory to the project root\n",
    "import os\n",
    "os.chdir('../../')\n",
    "\n",
    "import sys\n",
    "sys.path.append('models/utils')\n",
    "sys.path.append('models/aln')"
   ]
  },
  {
   "cell_type": "code",
   "execution_count": 7,
   "metadata": {},
   "outputs": [],
   "source": [
    "import numpy as np\n",
    "import matplotlib.pyplot as plt\n",
    "import fitparams as fp"
   ]
  },
  {
   "cell_type": "code",
   "execution_count": 8,
   "metadata": {},
   "outputs": [],
   "source": [
    "params = []\n",
    "params = fp.loadpoint(params, \"A2\")"
   ]
  },
  {
   "cell_type": "code",
   "execution_count": 13,
   "metadata": {},
   "outputs": [
    {
     "name": "stdout",
     "output_type": "stream",
     "text": [
      "aEIF C: 2e-10\n",
      "aEIF gL: 1e-08\n",
      "BS C: 3.14159265359e-12\n",
      "BS gL: 1.12199737628e-10\n",
      "5.0239554247 pA\n"
     ]
    }
   ],
   "source": [
    "import aEIF_extended as IF_Models\n",
    "EIFNeuron = IF_Models.EIFModel()\n",
    "\n",
    "# DEFAULT VALUES\n",
    "# check if BS parameters C and gL match with the AdEx parameters\n",
    "print(\"aEIF C: {}\".format(params['C']*1e-12))\n",
    "print(\"aEIF gL: {}\".format(params['gL']*1e-9))\n",
    "\n",
    "#EIFNeuron.C_soma     = 1.0e-2  # Soma membrane capacitance (F / m2)\n",
    "#EIFNeuron.rhom_soma  = 28.0e-1  # Soma membrane resistivity (Ohm m2)\n",
    "#EIFNeuron.d_soma     = 10e-6   # Soma diameter ( m )\n",
    "\n",
    "EIFNeuron.d_dend      = 2.0e-6  # Dendritic tree diameter (m)\n",
    "EIFNeuron.L           = 1200.0e-6  # Dendritic tree length (m)\n",
    "\n",
    "EIFNeuron.updateParams()\n",
    "\n",
    "print(\"BS C: {}\".format(EIFNeuron.C_s))\n",
    "print(\"BS gL: {}\".format(EIFNeuron.gL))\n",
    "\n",
    "def current_for_adex(freq, EIFNeuron):\n",
    "    # impedance\n",
    "    z_adex = params['gL']*1e-9 * (1-1 * np.exp((-65-params['VT'])/params['DeltaT'])) + params['C']*1e-12 * 1j* 2*np.pi * freq\n",
    "    z_bs = EIFNeuron.gL * (1 - 1 * np.exp((-65e-3-EIFNeuron.VT)/EIFNeuron.deltaT)) +  EIFNeuron.C_s * 1j* 2*np.pi * freq\n",
    "\n",
    "    current = z_adex * EIFNeuron.polarizationTransfer(freq)\n",
    "    return np.abs(current)\n",
    "\n",
    "freq = 0\n",
    "\n",
    "equivalent_current_for_1vm_dc_field = current_for_adex(freq, EIFNeuron)\n",
    "\n",
    "print(\"Equivalent input current for a 1 V/m DC field (0 Hz) {} pA\".format(equivalent_current_for_1vm_dc_field*1e12))"
   ]
  },
  {
   "cell_type": "code",
   "execution_count": 14,
   "metadata": {},
   "outputs": [],
   "source": [
    "def adex(inp=0):\n",
    "    I_syn = 0 # synaptic input, here 0\n",
    "    C = 200\n",
    "    gl = 10\n",
    "    taum = C / gl\n",
    "    deltaT = 1.5\n",
    "    EL = -65\n",
    "    EA = -80\n",
    "    VT = -50\n",
    "    Vr = -70\n",
    "    dt = 0.1\n",
    "    a = 0\n",
    "    \n",
    "    def I_exp(V):\n",
    "        return gl * (EL - V) + gl * deltaT * np.exp((V - VT) / deltaT)\n",
    "\n",
    "    V = Vr\n",
    "    Ia = 0\n",
    "    V_t = []\n",
    "    Ia_t = []\n",
    "    for i in range(10000):\n",
    "        V_rhs = (I_exp(V) + I_syn + inp - Ia) / C\n",
    "        Ia_rhs = a * (V - EA) - Ia\n",
    "        \n",
    "        V += V_rhs * dt\n",
    "        V_t.append(V)\n",
    "        \n",
    "        Ia += Ia_rhs * dt\n",
    "        Ia_t.append(Ia)\n",
    "    return V_t"
   ]
  },
  {
   "cell_type": "code",
   "execution_count": 15,
   "metadata": {},
   "outputs": [
    {
     "name": "stdout",
     "output_type": "stream",
     "text": [
      "Resting membrane potential: -64.999931897 mV\n",
      "Resting membrane potential with 1 V/m DC field: -64.999931897 mV\n"
     ]
    }
   ],
   "source": [
    "V_t_no_field = adex()\n",
    "print(\"Resting membrane potential: {} mV\".format(V_t_no_field[-1]))\n",
    "\n",
    "V_t_field = adex(equivalent_current_for_1vm_dc_field) \n",
    "print(\"Resting membrane potential with 1 V/m DC field: {} mV\".format(V_t_field[-1]))"
   ]
  },
  {
   "cell_type": "code",
   "execution_count": 169,
   "metadata": {},
   "outputs": [
    {
     "name": "stdout",
     "output_type": "stream",
     "text": [
      "0.502444635927 mV increase from rest for 1 V/m\n"
     ]
    }
   ],
   "source": [
    "print(\"{} mV increase from rest for 1 V/m\".format(V_t_field[-1] - V_t_no_field[-1]))"
   ]
  }
 ],
 "metadata": {
  "kernelspec": {
   "display_name": "Python 2",
   "language": "python",
   "name": "python2"
  },
  "language_info": {
   "codemirror_mode": {
    "name": "ipython",
    "version": 2
   },
   "file_extension": ".py",
   "mimetype": "text/x-python",
   "name": "python",
   "nbconvert_exporter": "python",
   "pygments_lexer": "ipython2",
   "version": "2.7.15"
  }
 },
 "nbformat": 4,
 "nbformat_minor": 2
}
