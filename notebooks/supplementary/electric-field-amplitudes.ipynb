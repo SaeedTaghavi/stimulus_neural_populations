{
 "cells": [
  {
   "cell_type": "code",
   "execution_count": null,
   "metadata": {
    "ExecuteTime": {
     "end_time": "2019-05-29T12:54:53.763336Z",
     "start_time": "2019-05-29T12:54:53.753910Z"
    },
    "collapsed": true
   },
   "outputs": [],
   "source": [
    "# change working directory to the project root\n",
    "import os\n",
    "os.chdir('../../')\n",
    "\n",
    "import sys\n",
    "sys.path.append('models/utils')\n",
    "sys.path.append('models/brian2')\n",
    "sys.path.append('models/aln')"
   ]
  },
  {
   "cell_type": "code",
   "execution_count": null,
   "metadata": {
    "ExecuteTime": {
     "end_time": "2019-05-29T12:54:56.216429Z",
     "start_time": "2019-05-29T12:54:54.110464Z"
    },
    "collapsed": false
   },
   "outputs": [],
   "source": [
    "# aln-imports\n",
    "import defaultParameters as dp\n",
    "import fitparams as fp\n",
    "import aEIF_extended as IF_Models\n",
    "\n",
    "# python-imports\n",
    "% matplotlib inline\n",
    "import matplotlib.pyplot as plt\n",
    "import matplotlib.colors\n",
    "import numpy as np"
   ]
  },
  {
   "cell_type": "code",
   "execution_count": null,
   "metadata": {
    "ExecuteTime": {
     "end_time": "2019-05-29T12:54:56.225758Z",
     "start_time": "2019-05-29T12:54:56.218505Z"
    },
    "collapsed": true
   },
   "outputs": [],
   "source": [
    "params = dp.loadDefaultParams(singleNode=1)"
   ]
  },
  {
   "cell_type": "markdown",
   "metadata": {},
   "source": [
    "#  Calculate and plot effective electrical field input"
   ]
  },
  {
   "cell_type": "code",
   "execution_count": null,
   "metadata": {
    "ExecuteTime": {
     "end_time": "2019-05-29T12:54:56.270272Z",
     "start_time": "2019-05-29T12:54:56.227095Z"
    },
    "collapsed": false
   },
   "outputs": [],
   "source": [
    "EIFNeuron = IF_Models.EIFModel()\n",
    "\n",
    "# DEFAULT VALUES\n",
    "# check if BS parameters C and gL match with the AdEx parameters\n",
    "print(\"aEIF C: {}\".format(params['C']*1e-12))\n",
    "print(\"aEIF gL: {}\".format(params['gL']*1e-9))\n",
    "\n",
    "#EIFNeuron.C_soma     = 1.0e-2  # Soma membrane capacitance (F / m2)\n",
    "#EIFNeuron.rhom_soma  = 28.0e-1  # Soma membrane resistivity (Ohm m2)\n",
    "#EIFNeuron.d_soma     = 10e-6   # Soma diameter ( m )\n",
    "\n",
    "EIFNeuron.d_dend      = 2.0e-6  # Dendritic tree diameter (m)\n",
    "EIFNeuron.L           = 1200.0e-6  # Dendritic tree length (m)\n",
    "\n",
    "EIFNeuron.updateParams()\n",
    "\n",
    "print(\"BS C: {}\".format(EIFNeuron.C_s))\n",
    "print(\"BS gL: {}\".format(EIFNeuron.gL))\n",
    "\n",
    "EIFNeuron.polarizationTransfer"
   ]
  },
  {
   "cell_type": "code",
   "execution_count": null,
   "metadata": {
    "ExecuteTime": {
     "end_time": "2019-05-29T12:54:57.164874Z",
     "start_time": "2019-05-29T12:54:57.150294Z"
    },
    "collapsed": false
   },
   "outputs": [],
   "source": [
    "def current_for_adex(freq, EIFNeuron):\n",
    "    # impedance\n",
    "    z_adex = params['gL']*1e-9 * (1-1 * np.exp((-70-params['VT'])/params['DeltaT'])) + params['C']*1e-12 * 1j* 2*np.pi * freq\n",
    "    z_bs = EIFNeuron.gL * (1 - 1 * np.exp((-65e-3-EIFNeuron.VT)/EIFNeuron.deltaT)) +  EIFNeuron.C_s * 1j* 2*np.pi * freq\n",
    "\n",
    "    current = z_adex * EIFNeuron.polarizationTransfer(freq)\n",
    "    return np.abs(current)\n",
    "\n",
    "freq = 30\n",
    "print(\"{} pA\".format(current_for_adex(freq, EIFNeuron)*1e12))"
   ]
  },
  {
   "cell_type": "code",
   "execution_count": null,
   "metadata": {
    "ExecuteTime": {
     "end_time": "2019-05-29T12:54:58.106955Z",
     "start_time": "2019-05-29T12:54:57.454410Z"
    },
    "collapsed": false
   },
   "outputs": [],
   "source": [
    "plt.figure(figsize=(3.5, 2.0), dpi=600)\n",
    "maxfr = 100\n",
    "freqs = np.linspace(0, maxfr, maxfr+1)\n",
    "amps = []\n",
    "for f in freqs:\n",
    "    amps.append(current_for_adex(f, EIFNeuron)*1e12)\n",
    "\n",
    "cmap = plt.cm.cool_r\n",
    "norm = matplotlib.colors.Normalize(vmin=1, vmax=10)\n",
    "def c(c): return cmap(norm(c))\n",
    "\n",
    "col = 'k'\n",
    "for amp in [1, 2, 3, 4, 5, 6, 8, 10, 12, 15, 20]:\n",
    "    plt.plot(freqs, np.multiply(amps,amp), c=c(amp), label='{} V/m'.format(amp))\n",
    "\n",
    "plt.ylim(0, 130)\n",
    "plt.xlim(0, 80)\n",
    "#plt.hlines(0.2, 0, maxfr, color='k', linestyle='--')\n",
    "#plt.hlines(0.4, 0, maxfr, color='k', linestyle='--')\n",
    "plt.grid(linewidth=0.2)\n",
    "plt.locator_params(axis='x', nbins=10)\n",
    "plt.locator_params(axis='y', nbins=10)\n",
    "\n",
    "plt.tick_params(axis='both', which='major', labelsize=6)\n",
    "\n",
    "plt.xlabel(\"Input frequency [Hz]\")\n",
    "plt.ylabel(\"Input current [pA]\")\n",
    "\n",
    "col = 'k'\n",
    "fs = 6.5\n",
    "\n",
    "import scipy.misc\n",
    "\n",
    "for i, amp in enumerate([1, 2, 3, 4, 5, 6, 8, 10, 12, 15, 20]):\n",
    "    freq_x = (10-amp)*4+2\n",
    "    \n",
    "    plotfreqs = [4, 8, 11, 14, 17, 21, 25, 30, 35, 40, 45][::-1]\n",
    "    freq_x = plotfreqs[i] \n",
    "    \n",
    "    amp_val = np.multiply(amps,amp)[freq_x] + 1\n",
    "    \n",
    "    rot = 1/scipy.misc.derivative(lambda amp: np.multiply(amps,amp)[freq_x], freq_x)  * 200\n",
    "    \n",
    "    rots = [3, 6, 13, 20, 30, 35, 50, 55, 58, 60, 60]\n",
    "    rot = rots[i]\n",
    "    \n",
    "    print(amp, freq_x, rot)\n",
    "    \n",
    "    \n",
    "    \n",
    "    bbox_props = dict(fc=\"w\", ec=\"white\", pad=0.0, alpha=1.0)\n",
    "    plt.text(freq_x, amp_val,  '{} V/m'.format(amp), fontsize=5, color=col, bbox=bbox_props, rotation=rot, ha='center', va='center')\n",
    "\n",
    "#plt.savefig(\"tACS_equiv_current.png\")\n",
    "#plt.savefig(\"tACS_equiv_current.svg\")\n",
    "plt.savefig(\"tACS_equiv_current.png\")\n",
    "plt.savefig(\"tACS_equiv_current.svg\")"
   ]
  },
  {
   "cell_type": "markdown",
   "metadata": {},
   "source": [
    "# Inverse problem"
   ]
  },
  {
   "cell_type": "code",
   "execution_count": null,
   "metadata": {
    "ExecuteTime": {
     "end_time": "2019-03-19T12:41:21.088471Z",
     "start_time": "2019-03-19T12:41:20.286262Z"
    },
    "collapsed": false
   },
   "outputs": [],
   "source": [
    "# invert problem by brute force:\n",
    "\n",
    "\n",
    "def find_efield_amp(freq, current_amp):\n",
    "    # current_amp: amplitude of current in pA that you want to convert to field\n",
    "    # freq: the frequency of the oscillation\n",
    "    return current_amp/(current_for_adex(freq, EIFNeuron)*1e12)\n",
    "\n",
    "amps = [10, 40, 60, 80, 100]\n",
    "freqs = np.linspace(0, 100, 101)\n",
    "field_amps = []\n",
    "plt.figure(figsize=(3, 1), dpi=600)\n",
    "for amp in amps:\n",
    "    field_amps = []\n",
    "    for freq in freqs:\n",
    "        field_amp = find_efield_amp(freq, amp)\n",
    "        field_amps.append(field_amp)\n",
    "        #print(amp, field_amp)\n",
    "    \n",
    "    plt.plot(freqs, field_amps, label=\"{} pA\".format(amp))\n",
    "\n",
    "plt.locator_params(axis='y', nbins=6)    \n",
    "plt.locator_params(axis='x', nbins=8)    \n",
    "\n",
    "\n",
    "plt.grid()\n",
    "plt.legend(loc=1, prop={'size': 6})\n",
    "plt.xlabel(\"Stimulataion frequency [Hz]\")\n",
    "plt.ylabel(\"E-Field [V/m]\")"
   ]
  }
 ],
 "metadata": {
  "kernelspec": {
   "display_name": "Python 2",
   "language": "python",
   "name": "python2"
  },
  "language_info": {
   "codemirror_mode": {
    "name": "ipython",
    "version": 2
   },
   "file_extension": ".py",
   "mimetype": "text/x-python",
   "name": "python",
   "nbconvert_exporter": "python",
   "pygments_lexer": "ipython2",
   "version": "2.7.13"
  },
  "toc": {
   "nav_menu": {},
   "number_sections": true,
   "sideBar": true,
   "skip_h1_title": false,
   "toc_cell": false,
   "toc_position": {},
   "toc_section_display": "block",
   "toc_window_display": false
  }
 },
 "nbformat": 4,
 "nbformat_minor": 2
}
