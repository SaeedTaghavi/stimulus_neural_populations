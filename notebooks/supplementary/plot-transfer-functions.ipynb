{
 "cells": [
  {
   "cell_type": "markdown",
   "metadata": {},
   "source": [
    "# Definitions"
   ]
  },
  {
   "cell_type": "code",
   "execution_count": null,
   "metadata": {
    "ExecuteTime": {
     "end_time": "2019-04-27T15:45:04.878050Z",
     "start_time": "2019-04-27T15:45:04.849155Z"
    },
    "collapsed": true
   },
   "outputs": [],
   "source": [
    "# change working directory to the project root\n",
    "import os\n",
    "os.chdir('../../')\n",
    "\n",
    "import sys\n",
    "sys.path.append('models/utils')\n",
    "sys.path.append('models/brian2')\n",
    "sys.path.append('models/aln')"
   ]
  },
  {
   "cell_type": "code",
   "execution_count": null,
   "metadata": {
    "ExecuteTime": {
     "end_time": "2019-04-27T15:45:24.671327Z",
     "start_time": "2019-04-27T15:45:24.598891Z"
    },
    "collapsed": false
   },
   "outputs": [],
   "source": [
    "# aln-imports\n",
    "import defaultParameters as dp\n",
    "import fitparams as fp\n",
    "import paths \n",
    "\n",
    "# python-imports\n",
    "% matplotlib inline\n",
    "import matplotlib.pyplot as plt\n",
    "import matplotlib.colors"
   ]
  },
  {
   "cell_type": "code",
   "execution_count": null,
   "metadata": {
    "ExecuteTime": {
     "end_time": "2019-04-27T15:45:08.735218Z",
     "start_time": "2019-04-27T15:45:08.675378Z"
    },
    "collapsed": false
   },
   "outputs": [],
   "source": [
    "params = dp.loadDefaultParams(singleNode = 1)\n",
    "#params = fp.load_everadapt(params, reloadDefaults=False)\n",
    "\n",
    "params['dt'] = 0.01\n",
    "params['duration'] = 10000.0\n",
    "params['sigma_ou'] = 0.0015 # 0.0"
   ]
  },
  {
   "cell_type": "markdown",
   "metadata": {},
   "source": [
    "# Plot data"
   ]
  },
  {
   "cell_type": "code",
   "execution_count": null,
   "metadata": {
    "ExecuteTime": {
     "end_time": "2019-04-27T15:45:34.566336Z",
     "start_time": "2019-04-27T15:45:27.181539Z"
    },
    "collapsed": false
   },
   "outputs": [],
   "source": [
    "cmap = plt.cm.cool\n",
    "norm = matplotlib.colors.Normalize(vmin=0.5, vmax=5.0)\n",
    "def c(c): return cmap(norm(c))\n",
    "\n",
    "Irange = params['Irange']\n",
    "every_sigma = 7\n",
    "\n",
    "f, axs = plt.subplots(1, 3, figsize=(8, 2), dpi=600)\n",
    "for i in range(64)[::every_sigma]:\n",
    "    thisSigma = params['sigmarange'][i]\n",
    "    axs[0].plot(Irange, params['precalc_r'][:, i]*1000.0, c=c(thisSigma));\n",
    "    axs[1].plot(Irange, params['precalc_V'][:, i], color=c(thisSigma));    \n",
    "    axs[2].plot(Irange, params['precalc_tau_mu'][:, i], color=c(thisSigma));\n",
    "\n",
    "axs[0].set_xlim(-1, 4)\n",
    "axs[0].set_ylim(0, 115)\n",
    "axs[0].set_xlabel(\"Input current $\\\\mu_\\\\alpha$ [mV/ms]\", fontsize = 8)\n",
    "axs[0].set_ylabel(\"Population rate $r_\\\\alpha$ [Hz]\", fontsize = 8)\n",
    "axs[1].set_xlim(-1, 4)\n",
    "axs[1].set_xlabel(\"Input current $\\\\mu_\\\\alpha$ [mV/ms]\", fontsize = 8)\n",
    "axs[1].set_ylabel(\"Mean membrane pot. $\\\\bar{V}_\\\\alpha$ [mV]\", fontsize = 8)  \n",
    "axs[2].set_xlim(-1, 4)\n",
    "axs[2].set_xlabel(\"Input current $\\\\mu_\\\\alpha$ [mV/ms]\", fontsize = 8)\n",
    "axs[2].set_ylabel(\"Adaptive timescale $\\\\tau_\\\\alpha$ [ms]\", fontsize = 8)\n",
    "plt.tight_layout()\n",
    "f.subplots_adjust(left=0.06, right=0.96)\n",
    "\n",
    "\n",
    "sm = plt.cm.ScalarMappable(cmap=cmap, norm=norm)\n",
    "sm.set_array([])\n",
    "cbar = f.colorbar(sm, fraction = 0.03, ticks=params['sigmarange'][every_sigma::every_sigma][::2])\n",
    "cbar.ax.tick_params(labelsize=6) \n",
    "cbar.set_label('$\\sigma_\\\\alpha$', fontsize = 8)\n",
    "cbar.outline.set_linewidth(0)\n",
    "\n",
    "for k in range(3):\n",
    "    axs[k].tick_params(size=1)\n",
    "    axs[k].tick_params(length=3)\n",
    "    axs[k].text(-0.1, 1.05, ['a','b','c'][k], transform=axs[k].transAxes, fontsize=14)\n",
    "\n",
    "for k in range(3):\n",
    "    axs[k].spines['right'].set_visible(False)\n",
    "    axs[k].spines['top'].set_visible(False)\n",
    "    axs[k].spines['bottom'].set_visible(False)\n",
    "    axs[k].spines['left'].set_visible(False)\n",
    "    axs[k].tick_params(direction='out', length=4, width=1, colors='k', labelsize=6)\n",
    "\n",
    "fname = \"transfer-functions\"\n",
    "print(\"Saving {}\".format(fname))\n",
    "for extension in ['png', 'svg', 'jpg']:\n",
    "    plt.savefig(os.path.join(paths.FIGURES_DIR, \"{}.{}\".format(fname, extension)))\n",
    "plt.show()    "
   ]
  },
  {
   "cell_type": "code",
   "execution_count": null,
   "metadata": {
    "collapsed": true
   },
   "outputs": [],
   "source": []
  }
 ],
 "metadata": {
  "kernelspec": {
   "display_name": "Python 2",
   "language": "python",
   "name": "python2"
  },
  "language_info": {
   "codemirror_mode": {
    "name": "ipython",
    "version": 2
   },
   "file_extension": ".py",
   "mimetype": "text/x-python",
   "name": "python",
   "nbconvert_exporter": "python",
   "pygments_lexer": "ipython2",
   "version": "2.7.13"
  },
  "toc": {
   "nav_menu": {},
   "number_sections": true,
   "sideBar": true,
   "skip_h1_title": false,
   "toc_cell": false,
   "toc_position": {},
   "toc_section_display": "block",
   "toc_window_display": false
  }
 },
 "nbformat": 4,
 "nbformat_minor": 2
}
