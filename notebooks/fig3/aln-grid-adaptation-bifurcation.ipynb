{
 "cells": [
  {
   "cell_type": "code",
   "execution_count": null,
   "metadata": {
    "ExecuteTime": {
     "end_time": "2019-04-15T16:31:10.881429Z",
     "start_time": "2019-04-15T16:31:10.814349Z"
    },
    "collapsed": true
   },
   "outputs": [],
   "source": [
    "# change working directory to the project root\n",
    "import os\n",
    "os.chdir('../../')\n",
    "\n",
    "import sys\n",
    "sys.path.append('models/utils')\n",
    "sys.path.append('models/brian2')\n",
    "sys.path.append('models/aln')"
   ]
  },
  {
   "cell_type": "code",
   "execution_count": null,
   "metadata": {
    "ExecuteTime": {
     "end_time": "2019-04-15T16:32:01.573345Z",
     "start_time": "2019-04-15T16:31:11.567841Z"
    },
    "collapsed": true
   },
   "outputs": [],
   "source": [
    "# import python packages\n",
    "from __future__ import print_function\n",
    "import os\n",
    "import datetime\n",
    "import tqdm\n",
    "import matplotlib.pyplot as plt\n",
    "% matplotlib inline\n",
    "import numpy as np\n",
    "import scipy \n",
    "import pandas as pd\n",
    "import pypet as pp\n",
    "\n",
    "# import utils libs\n",
    "import pypet_parameters as pe\n",
    "import fitparams as fp\n",
    "import functions as func\n",
    "import runModels as rm\n",
    "import paths"
   ]
  },
  {
   "cell_type": "code",
   "execution_count": null,
   "metadata": {
    "ExecuteTime": {
     "end_time": "2019-04-15T16:32:01.675871Z",
     "start_time": "2019-04-15T16:32:01.612179Z"
    },
    "collapsed": true
   },
   "outputs": [],
   "source": [
    "# sett dpi for notebooks on server\n",
    "plt.rcParams['svg.fonttype'] = 'none'\n",
    "plt.rcParams['savefig.dpi'] = 300\n",
    "plt.rcParams['image.cmap'] = 'plasma'"
   ]
  },
  {
   "cell_type": "code",
   "execution_count": null,
   "metadata": {
    "ExecuteTime": {
     "end_time": "2019-04-15T16:32:01.984409Z",
     "start_time": "2019-04-15T16:32:01.739757Z"
    },
    "collapsed": true
   },
   "outputs": [],
   "source": [
    "params = []\n",
    "params = fp.loadpoint(params, \"A2\")\n",
    "\n",
    "params['dt'] = 0.1\n",
    "params['duration'] =  6000 \n",
    "params['sigma_ou'] = 0.0\n",
    "\n",
    " N_neurons = 10000\n",
    "params['N'] = N_neurons\n",
    "params['model'] = 'aln'"
   ]
  },
  {
   "cell_type": "markdown",
   "metadata": {},
   "source": [
    "# Parameter exploration"
   ]
  },
  {
   "cell_type": "code",
   "execution_count": null,
   "metadata": {
    "ExecuteTime": {
     "end_time": "2019-04-15T16:32:02.295995Z",
     "start_time": "2019-04-15T16:32:02.047924Z"
    },
    "collapsed": false
   },
   "outputs": [],
   "source": [
    "parametrization = pp.cartesian_product({\n",
    "     'mue_ext_mean':[ round(elem, 3) for elem in np.linspace(0, 7.0, 71)],\n",
    "     'mui_ext_mean':[ round(elem, 3) for elem in np.linspace(0, 7.0, 71)],\n",
    "    'a':[0.0, 7.5, 15.0, 30.0],\n",
    "    'b':[0.0, 20.0, 40.0, 80.0],\n",
    "})\n",
    "\n",
    "print(\"{} parameterizations\".format(len(parametrization[parametrization.keys()[0]])))"
   ]
  },
  {
   "cell_type": "markdown",
   "metadata": {},
   "source": [
    "## Run simulations"
   ]
  },
  {
   "cell_type": "code",
   "execution_count": null,
   "metadata": {
    "ExecuteTime": {
     "start_time": "2019-04-15T14:31:38.621Z"
    },
    "collapsed": false
   },
   "outputs": [],
   "source": [
    "# ---- initialize pypet environment ----\n",
    "trajectoryName = 'results' + datetime.datetime.now().strftime(\"-%Y-%m-%d-%HH-%MM-%SS\")\n",
    "HDF_FILE = os.path.join(paths.HDF_DIR, 'aln-grid-bifurcation-adaptation.hdf')\n",
    "trajectoryFileName = HDF_FILE\n",
    "\n",
    "import multiprocessing\n",
    "ncores = multiprocessing.cpu_count()\n",
    "print(\"Number of cores: {}\".format(ncores))\n",
    "\n",
    "\n",
    "\n",
    "env = pp.Environment(trajectory=trajectoryName,filename=trajectoryFileName,\n",
    "                    file_title='aln bifurcation diagrams with increasing adaptation',\n",
    "                    large_overview_tables=True,\n",
    "                    multiproc=True,           \n",
    "                    ncores=ncores,\n",
    "                    wrap_mode='QUEUE',\n",
    "                    log_stdout = False\n",
    "                    )\n",
    "\n",
    "# Get the trajectory from the environment\n",
    "traj = env.v_trajectory\n",
    "trajectoryName = traj.v_name\n",
    "\n",
    "pe.add_parameters(traj, params)"
   ]
  },
  {
   "cell_type": "code",
   "execution_count": null,
   "metadata": {
    "ExecuteTime": {
     "start_time": "2019-04-15T14:31:38.992Z"
    },
    "collapsed": false,
    "scrolled": true
   },
   "outputs": [],
   "source": [
    "traj.f_explore(parametrization)\n",
    "env.f_run(rm.runModels_stimulus)\n",
    "env.f_disable_logging()\n",
    "print(\"Done.\")"
   ]
  },
  {
   "cell_type": "markdown",
   "metadata": {},
   "source": [
    "# Data processing"
   ]
  },
  {
   "cell_type": "markdown",
   "metadata": {},
   "source": [
    "## Load results from disk"
   ]
  },
  {
   "cell_type": "code",
   "execution_count": null,
   "metadata": {
    "ExecuteTime": {
     "end_time": "2019-04-15T21:24:03.159261Z",
     "start_time": "2019-04-15T21:24:03.154236Z"
    },
    "collapsed": true
   },
   "outputs": [],
   "source": [
    "HDF_FILE = os.path.join(paths.HDF_DIR, 'aln-grid-bifurcation-adaptation.hdf')\n",
    "trajectoryFileName = HDF_FILE"
   ]
  },
  {
   "cell_type": "code",
   "execution_count": null,
   "metadata": {
    "ExecuteTime": {
     "end_time": "2019-04-15T21:24:06.922220Z",
     "start_time": "2019-04-15T21:24:04.045645Z"
    },
    "collapsed": false
   },
   "outputs": [],
   "source": [
    "# ---- load pypet trajectory \"trajectoryFileName\" ----\n",
    "print(\"Analyzing File \\\"{}\\\"\".format(trajectoryFileName))\n",
    "print(\"All Trajectories:\")\n",
    "print(pe.getTrajectoryNameInsideFile(trajectoryFileName))\n",
    "trajectoryName = pe.getTrajectoryNameInsideFile(trajectoryFileName)[-1]\n",
    "\n",
    "print(\"Analyzing trajectory \\\"{}\\\".\".format(trajectoryName))\n",
    "trajLoaded = pp.Trajectory(trajectoryName,add_time=False)\n",
    "trajLoaded.f_load(trajectoryName,filename=trajectoryFileName, force=True)\n",
    "trajLoaded.v_auto_load = True\n",
    "print(\"{} results found\".format(len(trajLoaded.f_get_results())))"
   ]
  },
  {
   "cell_type": "markdown",
   "metadata": {
    "ExecuteTime": {
     "end_time": "2019-04-14T22:59:22.572747Z",
     "start_time": "2019-04-14T22:59:22.566795Z"
    }
   },
   "source": [
    "## Process data"
   ]
  },
  {
   "cell_type": "code",
   "execution_count": null,
   "metadata": {
    "ExecuteTime": {
     "end_time": "2019-04-15T21:24:06.935382Z",
     "start_time": "2019-04-15T21:24:06.923734Z"
    },
    "collapsed": true
   },
   "outputs": [],
   "source": [
    "nResults = len(trajLoaded.f_get_run_names()) # number of results in trajectory \n",
    "dt = trajLoaded.f_get_parameters()['parameters.simulation.dt'].f_get() # dt of simulation\n",
    "\n",
    "# ---- explored parameter list ----\n",
    "exploredParameters = trajLoaded.f_get_explored_parameters()\n",
    "niceParKeys = [p.split('.')[-1] for p in exploredParameters.keys()]\n",
    "\n",
    "# ---- lcreate pandas df with results as keys ----\n",
    "dfResults = pd.DataFrame(columns=niceParKeys,dtype=object)\n",
    "\n",
    "# range of parameters\n",
    "for nicep, p in zip(niceParKeys,exploredParameters.keys()):\n",
    "    dfResults[nicep] = exploredParameters[p].f_get_range()"
   ]
  },
  {
   "cell_type": "markdown",
   "metadata": {
    "ExecuteTime": {
     "end_time": "2019-04-14T22:59:53.608981Z",
     "start_time": "2019-04-14T22:59:53.604347Z"
    }
   },
   "source": [
    "### Serial Processing"
   ]
  },
  {
   "cell_type": "code",
   "execution_count": null,
   "metadata": {
    "ExecuteTime": {
     "end_time": "2019-04-15T21:37:45.924149Z",
     "start_time": "2019-04-15T21:24:09.694589Z"
    },
    "collapsed": false
   },
   "outputs": [],
   "source": [
    "# ---- make a dictionary with results ----\n",
    "resultDicts = []\n",
    "makeDict = True\n",
    "\n",
    "#measures = ['domfr_exc', 'domfr_power_exc', 'max_exc', 'min_exc', 'updowndiff_exc', 'domfr_inh','domfr_power_inh', 'max_inh', 'min_inh', 'updowndiff_inh'] \n",
    "measures = ['domfr_exc', 'max_exc', 'updowndiff_exc', 'domfr_power_exc', 'max_inh']\n",
    "\n",
    "for rInd in tqdm.tqdm(range(nResults), total=nResults):\n",
    "    \n",
    "    for measure in measures:\n",
    "        dfResults.loc[rInd, measure] = func.analyse_run(measure, trajLoaded.results[rInd].f_to_dict(), dt)    \n",
    "    if makeDict:\n",
    "            resultDicts.append(trajLoaded.results[rInd].f_to_dict())\n",
    "            \n",
    "print(\"done.\")"
   ]
  },
  {
   "cell_type": "markdown",
   "metadata": {},
   "source": [
    "### Parallel Processing"
   ]
  },
  {
   "cell_type": "code",
   "execution_count": null,
   "metadata": {
    "ExecuteTime": {
     "end_time": "2019-04-14T22:47:30.726722Z",
     "start_time": "2019-04-14T22:47:19.509680Z"
    },
    "collapsed": true
   },
   "outputs": [],
   "source": [
    "from joblib import Parallel, delayed\n",
    "import multiprocessing\n",
    "num_cores = multiprocessing.cpu_count()   \n",
    "\n",
    "# ---- make a dictionary with results ----\n",
    "resultDicts = []\n",
    "makeDict = False\n",
    "print(\"Creating results dictionary ...\")\n",
    "runResults = []\n",
    "for rInd in range(len(dfResults)):\n",
    "    result = trajLoaded.results[rInd].f_to_dict()\n",
    "    runResults.append(result)\n",
    "    if makeDict:\n",
    "        resultDicts.append(result)\n",
    "print(\"done.\")\n",
    "\n",
    "for measure in ['domfr_exc', 'max_exc', 'updowndiff_exc', 'domfr_power_exc', 'max_inh']:\n",
    "    print(\"Analysing measure: {}\".format(measure))\n",
    "    parallelResults = Parallel(n_jobs=num_cores)(delayed(func.analyse_run)(measure = measure, result = i, dt = dt) for i in runResults)\n",
    "    dfResults[measure] = parallelResults\n",
    "print(\"done.\")"
   ]
  },
  {
   "cell_type": "code",
   "execution_count": null,
   "metadata": {
    "ExecuteTime": {
     "end_time": "2019-04-15T21:37:54.953631Z",
     "start_time": "2019-04-15T21:37:54.903818Z"
    },
    "collapsed": true
   },
   "outputs": [],
   "source": [
    "import pickle\n",
    "file_path_p = os.path.join(paths.PICKLE_DIR, 'pypet-aln-grid-bifurcation-adaptation-dfResults.p')\n",
    "#pickle.dump(dfResults, file(file_path_p, \"w\"))"
   ]
  },
  {
   "cell_type": "markdown",
   "metadata": {},
   "source": [
    "## Load processed results from file"
   ]
  },
  {
   "cell_type": "code",
   "execution_count": null,
   "metadata": {
    "ExecuteTime": {
     "end_time": "2019-04-15T21:37:55.806647Z",
     "start_time": "2019-04-15T21:37:55.784758Z"
    },
    "collapsed": true
   },
   "outputs": [],
   "source": [
    "import pickle\n",
    "file_path_p = os.path.join(paths.PICKLE_DIR, 'pypet-aln-grid-bifurcation-adaptation-dfResults.p')\n",
    "#dfResults = pickle.load(file(file_path_p, \"r\"))"
   ]
  },
  {
   "cell_type": "markdown",
   "metadata": {},
   "source": [
    "# Plot data"
   ]
  },
  {
   "cell_type": "code",
   "execution_count": null,
   "metadata": {
    "ExecuteTime": {
     "end_time": "2019-04-15T21:37:57.047360Z",
     "start_time": "2019-04-15T21:37:57.003875Z"
    },
    "collapsed": true
   },
   "outputs": [],
   "source": [
    "def annotate_plot(point, model, ax):\n",
    "    fs = 16\n",
    "    fw = 'regular'\n",
    "    C = 1 # Capacitance, convert mV/ms to pA\n",
    "    pad = 3\n",
    "    if point[0] == 'A':\n",
    "        if model == 'brian':\n",
    "            # attractor labels -------------\n",
    "            ax.text(0.8*C,0.25*C, 'up', fontweight=fw, transform=ax.transAxes, #style='italic',\n",
    "                    bbox={'facecolor':'white', 'alpha':0.85, 'pad':pad}, fontsize=fs)\n",
    "            ax.text(0.35*C,0.06*C, 'LC$_{EI}$', fontweight=fw, transform=ax.transAxes, #style='italic',\n",
    "                    bbox={'facecolor':'white', 'alpha':0.85, 'pad':pad}, fontsize=fs)\n",
    "            ax.text(0.25*C,0.65*C, 'down', fontweight=fw, transform=ax.transAxes, #style='italic',\n",
    "                    bbox={'facecolor':'white', 'alpha':0.85, 'pad':pad}, fontsize=fs)\n",
    "            ax.text(0.8*C,0.65*C, 'bi', fontweight=fw, transform=ax.transAxes, #style='italic',\n",
    "                    bbox={'facecolor':'white', 'alpha':0.85, 'pad':pad}, fontsize=fs)\n",
    "\n",
    "        else:\n",
    "            # attractor labels -------------\n",
    "            ax.text(3.5*C,0.75*C, 'up', fontweight=fw,#style='italic',\n",
    "                    bbox={'facecolor':'white', 'alpha':0.9, 'pad':pad}, fontsize=fs)\n",
    "            ax.text(0.7*C,0.3*C, 'LC$_{EI}$', fontweight=fw,#style='italic',\n",
    "                    bbox={'facecolor':'white', 'alpha':0.9, 'pad':pad}, fontsize=fs)\n",
    "            ax.text(0.4*C,1.9*C, 'down', fontweight=fw,#style='italic',\n",
    "                    bbox={'facecolor':'white', 'alpha':0.9, 'pad':pad}, fontsize=fs)\n",
    "            ax.text(2.3*C,2.7*C, 'bi', fontweight=fw,#style='italic',\n",
    "                    bbox={'facecolor':'white', 'alpha':0.9, 'pad':pad}, fontsize=fs)\n",
    "    elif point[0] == 'B':\n",
    "        if model == 'brian':\n",
    "            # attractor labels -------------\n",
    "            ax.text(0.88*C,0.25*C, 'up', fontweight=fw, transform=ax.transAxes, #style='italic',\n",
    "                    bbox={'facecolor':'white', 'alpha':0.85, 'pad':pad}, fontsize=fs)\n",
    "            ax.text(0.5*C,0.06*C, 'LC$_{EI}$', fontweight=fw,transform=ax.transAxes, #style='italic',\n",
    "                    bbox={'facecolor':'white', 'alpha':0.85, 'pad':pad}, fontsize=fs)\n",
    "            ax.text(0.3*C,0.7*C, 'down', fontweight=fw,transform=ax.transAxes, #style='italic',\n",
    "                    bbox={'facecolor':'white', 'alpha':0.85, 'pad':pad}, fontsize=fs)\n",
    "            ax.text(0.68*C,0.39*C, 'LC$_{aE}$', fontweight=fw,transform=ax.transAxes, #style='italic',\n",
    "                    bbox={'facecolor':'white', 'alpha':0.85, 'pad':pad}, fontsize=fs)\n",
    "        else:\n",
    "            # attractor labels -------------\n",
    "            ax.text(2.5*C, 0.3*C, u'LC$_{EI}$', fontweight=fw,#style='italic',\n",
    "                    bbox={'facecolor':'white', 'alpha':0.9, 'pad':pad}, fontsize=fs)\n",
    "            ax.text(4.0*C, 2.8*C, u'LC$_{aE}$', fontweight=fw,#style='italic',\n",
    "                    bbox={'facecolor':'white', 'alpha':0.9, 'pad':pad}, fontsize=fs)\n",
    "            ax.text(1.6*C, 2.75*C, 'down', fontweight=fw,#style='italic',\n",
    "                    bbox={'facecolor':'white', 'alpha':0.9, 'pad':pad}, fontsize=fs)\n",
    "            ax.text(5.0*C, 1.0*C, 'up', fontweight=fw,#style='italic',\n",
    "                    bbox={'facecolor':'white', 'alpha':0.9, 'pad':pad}, fontsize=fs)\n",
    "            "
   ]
  },
  {
   "cell_type": "code",
   "execution_count": null,
   "metadata": {
    "ExecuteTime": {
     "end_time": "2019-04-15T21:37:57.783840Z",
     "start_time": "2019-04-15T21:37:57.658420Z"
    },
    "collapsed": true
   },
   "outputs": [],
   "source": [
    "up_down_threshold_hz = 10 # minimum difrernce of population rate between up and down state for bistable classification\n",
    "domfr_threshold = 0.5 # minimum dominant frequency of an oscillation for classification\n",
    "\n",
    "def plotResults(selectedResults, plot='max_exc', ax=None, pos=(0, 0)):\n",
    "    plot_results = []\n",
    "    amplitudes = []\n",
    "    frequencies = []\n",
    "    oscillation_powers = []\n",
    "    max_inh_rates = []\n",
    "\n",
    "    up_down_differences = []\n",
    "    \n",
    "    for i in range(len(selectedResults)):\n",
    "        plot_results.append(selectedResults.iloc[i][plot])\n",
    "        frequencies.append(selectedResults.iloc[i]['domfr_exc'])\n",
    "        up_down_differences.append(selectedResults.iloc[i]['updowndiff_exc'])\n",
    "    \n",
    "    mues = np.unique(selectedResults['mue_ext_mean'])  \n",
    "    muis = np.unique(selectedResults['mui_ext_mean'])    \n",
    "    \n",
    "    # prepare matrixes for plotting\n",
    "    plot_results_matrix = np.reshape(plot_results, (len(mues), len(muis))).T\n",
    "    frequencies_matrix = np.reshape(frequencies, (len(mues), len(muis))).T\n",
    "    up_down_differences_matrix = np.reshape(up_down_differences, (len(mues), len(muis))).T\n",
    "    \n",
    "    # Fill in NaN's...\n",
    "    mask = np.isnan(plot_results_matrix)\n",
    "    plot_results_matrix[mask] = np.interp(np.flatnonzero(mask), np.flatnonzero(~mask), plot_results_matrix[~mask])\n",
    "    mask = np.isnan(frequencies_matrix)\n",
    "    frequencies_matrix[mask] = np.interp(np.flatnonzero(mask), np.flatnonzero(~mask), frequencies_matrix[~mask])\n",
    "    mask = np.isnan(up_down_differences_matrix)\n",
    "    up_down_differences_matrix[mask] = np.interp(np.flatnonzero(mask), np.flatnonzero(~mask), up_down_differences_matrix[~mask])  \n",
    "    \n",
    "    # --------------------------\n",
    "    # -------  PLOTTING  -------\n",
    "    # --------------------------\n",
    "    \n",
    "    C = 1 # Capacitance, convert mV/ms to nA (depricated!!)\n",
    "    \n",
    "    if ax==None:\n",
    "        print('new figure')\n",
    "        plt.figure(figsize=(3,3), dpi=300)\n",
    "        ax = plt.gca()\n",
    "        \n",
    "    cmap = 'BuPu_r'\n",
    "    if pos[0]==pos[1]:\n",
    "        cmap = 'plasma' # change color on the diagonal\n",
    "        \n",
    "    im = ax.imshow(plot_results_matrix, origin='lower', aspect='auto', clim = (0, 80), cmap=cmap,\\\n",
    "                   extent = [mues[0], mues[-1], muis[0], muis[-1]])\n",
    "    \n",
    "    ax.tick_params(labelsize=20) \n",
    "    \n",
    "    if pos==(0, 0):\n",
    "        ax.set_xlabel(\"Input to E [nA]\", fontsize=20)\n",
    "        ax.set_ylabel(\"Input to I [nA]\", fontsize=20)\n",
    "        # force integer ticks\n",
    "        plt.locator_params(nbins=4)\n",
    "        \n",
    "        # multiply axis ticks with capacitance C to get nA \n",
    "        ax.set_xticklabels(np.round(np.multiply(ax.get_xticks(),0.2),2)) \n",
    "        ax.set_yticklabels(np.round(np.multiply(ax.get_yticks(),0.2),2)) \n",
    "        ax.tick_params(labelsize=15) \n",
    "        \n",
    "        annotate_plot('A', 'aln', ax) # annotate attractors\n",
    "        \n",
    "    elif pos == (2, 2):\n",
    "        annotate_plot('B', 'aln', ax) # annotate attractors\n",
    "        ax.set_xticks([])\n",
    "        ax.set_yticks([])\n",
    "    else:\n",
    "        ax.set_xticks([])\n",
    "        ax.set_yticks([])\n",
    "        \n",
    "    # ----- LC contour -----\n",
    "    Z=frequencies_matrix.copy()\n",
    "    blurredZ =scipy.ndimage.filters.gaussian_filter(frequencies_matrix,0.0) # blurred\n",
    "    Z = blurredZ.copy()\n",
    "    frequency_threshold = domfr_threshold\n",
    "    Z[Z<frequency_threshold] = 0\n",
    "    Z[Z>=frequency_threshold] = 1\n",
    "\n",
    "    Xi,Yi = np.meshgrid(mues, muis)\n",
    "    cset2 = ax.contour(Xi, Yi, Z, colors='white', linestyles='solid', levels=[0, 1.0001], linewidths=(7,),zorder=1)\n",
    "    \n",
    "    # ----- bistability contour -----\n",
    "    Z=up_down_differences_matrix.copy()\n",
    "    blurredZ =scipy.ndimage.filters.gaussian_filter(up_down_differences_matrix,0.0) # blurred\n",
    "    Z = blurredZ.copy()\n",
    "    up_down_threshold = up_down_threshold_hz\n",
    "    Z[Z<up_down_threshold] = 0\n",
    "    Z[Z>=up_down_threshold] = 1\n",
    "\n",
    "    Xi,Yi = np.meshgrid(mues, muis)\n",
    "    levels = np.arange(0,1,1)\n",
    "    cset2 = ax.contour(Xi, Yi, Z, colors='springgreen', linestyles='dashed', levels=[0, 1.0001], linewidths=(7,),zorder=2)\n",
    "    \n",
    "\n",
    "    if ax==None:\n",
    "        plt.show()\n",
    "    return im"
   ]
  },
  {
   "cell_type": "markdown",
   "metadata": {},
   "source": [
    "## Plot individually"
   ]
  },
  {
   "cell_type": "code",
   "execution_count": null,
   "metadata": {
    "ExecuteTime": {
     "end_time": "2019-04-15T21:37:59.806962Z",
     "start_time": "2019-04-15T21:37:59.771316Z"
    },
    "collapsed": false,
    "scrolled": true
   },
   "outputs": [],
   "source": [
    "# Plot individually\n",
    "a_range = np.unique(trajLoaded.f_get('parameters.neuron.a').f_get_range())\n",
    "b_range = np.unique(trajLoaded.f_get('parameters.neuron.b').f_get_range())\n",
    "\n",
    "for a in a_range:\n",
    "    for b in b_range:\n",
    "        print(a, b)\n",
    "        selector = (dfResults.a==a) & (dfResults.b==b)\n",
    "        selectedResults = dfResults[selector]\n",
    "        selectIndices = selectedResults.index\n",
    "        #plotResults(selectedResults, 'max_exc')\n",
    "        #plotResults(selectedResults, 'domfr_exc')\n",
    "        #plotResults(selectedResults, 'domfr_power_exc')"
   ]
  },
  {
   "cell_type": "markdown",
   "metadata": {},
   "source": [
    "## Plot grid"
   ]
  },
  {
   "cell_type": "code",
   "execution_count": null,
   "metadata": {
    "ExecuteTime": {
     "end_time": "2019-04-15T21:38:48.493540Z",
     "start_time": "2019-04-15T21:38:30.832483Z"
    },
    "collapsed": false,
    "scrolled": false
   },
   "outputs": [],
   "source": [
    "import matplotlib.gridspec as gridspec\n",
    "import matplotlib.patheffects as PathEffects\n",
    "import string\n",
    "labels = [l for l in string.ascii_lowercase]\n",
    "\n",
    "\n",
    "a_range = np.unique(trajLoaded.f_get('parameters.neuron.a').f_get_range())\n",
    "b_range = np.unique(trajLoaded.f_get('parameters.neuron.b').f_get_range())\n",
    "\n",
    "fig = plt.figure(figsize=(14, 14), dpi=300)\n",
    "plot_grid = gridspec.GridSpec(len(a_range),len(b_range))\n",
    "\n",
    "\n",
    "\n",
    "for yg, a in enumerate(a_range): #zip(range(len(a_range))[::-1], a_range): \n",
    "    yg_flipped = len(a_range)-1-yg # flip for plotting, because gridspec (0,0) is upper left...\n",
    "    for xg, b in enumerate(b_range):\n",
    "        print(yg, xg, 'pars', a, b)\n",
    "        selector = (dfResults.a==a) & (dfResults.b==b)\n",
    "        selectedResults = dfResults[selector]\n",
    "        selectIndices = selectedResults.index\n",
    "        \n",
    "        ax = plt.subplot(plot_grid[yg_flipped, xg]) # stupid: gridspec takes y first, then x ...\n",
    "        \n",
    "        imPlot = plotResults(selectedResults, 'max_exc', ax, (xg, yg))\n",
    "        \n",
    "        \n",
    "        if (xg==0) and (yg==0):\n",
    "            im = imPlot # save imPlot for colorbars later\n",
    "            origin_ax = ax # save ax for grid arrows a and b\n",
    "        if (xg==1) and (yg==0):\n",
    "            im_grey = imPlot # save imPlot for colorbars later\n",
    "            \n",
    "        # a, b parameter legend upper left\n",
    "        frametext = \"a={}\\nb={}\".format(a, b)\n",
    "        txt = ax.text(0.2 , 5.7, frametext, fontsize=19, color='white')\n",
    "        txt.set_path_effects([PathEffects.withStroke(linewidth=2, foreground='k')])\n",
    "        \n",
    "# adjust plot\n",
    "fig.tight_layout(pad=2.5, w_pad=0.5, h_pad=0.5)     \n",
    "\n",
    "\n",
    "# colorbars\n",
    "from mpl_toolkits.axes_grid1 import make_axes_locatable\n",
    "cax=fig.add_axes([0.245,0.105,0.018,0.15])  ## the parameters are the specified position you set \n",
    "fig.colorbar(im, cax=cax)\n",
    "fig.text(0.247, 0.162, 'max $r_E$', rotation=90, color='white', size=16)\n",
    "\n",
    "cax=fig.add_axes([0.925,0.105,0.018,0.15])  ## the parameters are the specified position you set \n",
    "fig.colorbar(im_grey, cax=cax)\n",
    "fig.text(0.927, 0.162, 'max $r_E$', rotation=90, color='white', size=16)\n",
    "\n",
    "\n",
    "# outer grid a and b\n",
    "bbox_props = dict(boxstyle=\"square,pad=0.1\", fc=\"white\", lw=1)\n",
    "bbox_props = None\n",
    "\n",
    "plt.annotate(\"b\",size=28, bbox=bbox_props,\n",
    "            xy=(0.8, 0.028), xycoords=fig.transFigure,\n",
    "            xytext=(0.3, 0.02), textcoords=fig.transFigure,                 \n",
    "            arrowprops=dict(arrowstyle=\"->\", lw=2))\n",
    "plt.annotate(\"Spike-triggered adaptation [pA]\", size=18, xy=(0.4, 0.04), xycoords=fig.transFigure)\n",
    "\n",
    "plt.annotate(\"a\",size=28, bbox=bbox_props,\n",
    "            xy=(0.046, 0.8), xycoords=fig.transFigure,\n",
    "            xytext=(0.038, 0.3), textcoords=fig.transFigure,                 \n",
    "            arrowprops=dict(arrowstyle=\"->\", lw=2))\n",
    "plt.annotate(\"Subthreshold adaptation [nS]\", size=18, xy=(0.02, 0.66), rotation=90, xycoords=fig.transFigure)\n",
    "\n",
    "fname = 'aln-grid-adaptation-bifurcation'\n",
    "print(\"Saving {}\".format(fname))\n",
    "for extension in ['png', 'svg', 'jpg']:\n",
    "    plt.savefig(os.path.join(paths.FIGURES_DIR, \"bifurcation-plot-{}.{}\".format(fname, extension)))\n",
    "plt.show()"
   ]
  }
 ],
 "metadata": {
  "kernelspec": {
   "display_name": "Python 2",
   "language": "python",
   "name": "python2"
  },
  "language_info": {
   "codemirror_mode": {
    "name": "ipython",
    "version": 2
   },
   "file_extension": ".py",
   "mimetype": "text/x-python",
   "name": "python",
   "nbconvert_exporter": "python",
   "pygments_lexer": "ipython2",
   "version": "2.7.13"
  },
  "toc": {
   "nav_menu": {},
   "number_sections": true,
   "sideBar": true,
   "skip_h1_title": false,
   "toc_cell": false,
   "toc_position": {},
   "toc_section_display": "block",
   "toc_window_display": false
  }
 },
 "nbformat": 4,
 "nbformat_minor": 2
}
