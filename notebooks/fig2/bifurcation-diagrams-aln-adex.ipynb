{
 "cells": [
  {
   "cell_type": "markdown",
   "metadata": {},
   "source": [
    "# Definitions"
   ]
  },
  {
   "cell_type": "code",
   "execution_count": null,
   "metadata": {
    "ExecuteTime": {
     "end_time": "2019-04-25T12:56:17.331020Z",
     "start_time": "2019-04-25T12:56:17.316119Z"
    },
    "collapsed": true
   },
   "outputs": [],
   "source": [
    "# change working directory to the project root\n",
    "import os\n",
    "os.chdir('../../')\n",
    "\n",
    "import sys\n",
    "sys.path.append('models/utils')\n",
    "sys.path.append('models/brian2')\n",
    "sys.path.append('models/aln')"
   ]
  },
  {
   "cell_type": "code",
   "execution_count": null,
   "metadata": {
    "ExecuteTime": {
     "end_time": "2019-04-25T12:56:38.937073Z",
     "start_time": "2019-04-25T12:56:17.540129Z"
    },
    "collapsed": true
   },
   "outputs": [],
   "source": [
    "# import python packages\n",
    "from __future__ import print_function\n",
    "import os\n",
    "import datetime\n",
    "import tqdm\n",
    "import matplotlib.pyplot as plt\n",
    "% matplotlib inline\n",
    "import numpy as np\n",
    "import scipy \n",
    "import pandas as pd\n",
    "import pypet as pp\n",
    "\n",
    "# import utils libs\n",
    "import pypet_parameters as pe\n",
    "import fitparams as fp\n",
    "import functions as func\n",
    "import runModels as rm\n",
    "import paths"
   ]
  },
  {
   "cell_type": "code",
   "execution_count": null,
   "metadata": {
    "ExecuteTime": {
     "end_time": "2019-04-25T12:56:38.957748Z",
     "start_time": "2019-04-25T12:56:38.947371Z"
    },
    "collapsed": true
   },
   "outputs": [],
   "source": [
    "# sett dpi for notebooks on server\n",
    "plt.rcParams['svg.fonttype'] = 'none'\n",
    "plt.rcParams['savefig.dpi'] = 300\n",
    "plt.rcParams['image.cmap'] = 'plasma'"
   ]
  },
  {
   "cell_type": "code",
   "execution_count": null,
   "metadata": {
    "ExecuteTime": {
     "end_time": "2019-04-25T12:56:39.021422Z",
     "start_time": "2019-04-25T12:56:38.961803Z"
    },
    "collapsed": true
   },
   "outputs": [],
   "source": [
    "# load default parameters\n",
    "params = []\n",
    "params = fp.loadpoint(params, \"A1\")\n",
    "params['sigma_ou'] = 0.0 # no mean current fluctuations\n",
    "params['dt'] = 0.1 # timestep for simulations\n",
    "params['duration'] =  6000 # ms\n",
    "\n",
    "# Number of neurons for AdEx network simulation\n",
    "N_neurons = 10000\n",
    "params['model'] = 'brian'\n",
    "params['N'] = N_neurons"
   ]
  },
  {
   "cell_type": "markdown",
   "metadata": {},
   "source": [
    "# Parameter exploration"
   ]
  },
  {
   "cell_type": "code",
   "execution_count": null,
   "metadata": {
    "ExecuteTime": {
     "end_time": "2019-04-27T15:33:09.924390Z",
     "start_time": "2019-04-27T15:33:08.988220Z"
    },
    "collapsed": true
   },
   "outputs": [],
   "source": [
    "parametrization_noadapt_aln = pp.cartesian_product({\n",
    "    'mue_ext_mean':[ round(elem, 3) for elem in np.linspace(0.0, 3.0, 251)],\n",
    "    'mui_ext_mean':[ round(elem, 3) for elem in np.linspace(0.0, 3.0, 251)],\n",
    "    'model':[ 'aln'],\n",
    "    'load_point':[ 'A2' ],\n",
    "    'duration': [ 6000 ]\n",
    "})\n",
    "\n",
    "parametrization_noadapt_brian = pp.cartesian_product({\n",
    "    'mue_ext_mean':[ round(elem, 3) for elem in np.linspace(0.0, 3.0, 91)],\n",
    "    'mui_ext_mean':[ round(elem, 3) for elem in np.linspace(0.0, 3.0, 91)],\n",
    "    'model':['brian'],\n",
    "    'load_point':[ 'A2' ],\n",
    "    'duration': [ 6000 ]\n",
    "})\n",
    "\n",
    "parametrization_adapt_aln = pp.cartesian_product({\n",
    "     'mue_ext_mean':[ round(elem, 3) for elem in np.linspace(1.0, 5.0, 251)],\n",
    "     'mui_ext_mean':[ round(elem, 3) for elem in np.linspace(0.0, 4.0, 251)],\n",
    "    'model':[ 'aln' ],\n",
    "    'load_point':[ 'B2' ],\n",
    "    'duration' : [ 6000 ]\n",
    "})\n",
    "\n",
    "parametrization_adapt_brian = pp.cartesian_product({\n",
    "     'mue_ext_mean':[ round(elem, 3) for elem in np.linspace(1.0, 5.0, 91)],\n",
    "     'mui_ext_mean':[ round(elem, 3) for elem in np.linspace(0.0, 4.0, 91)],\n",
    "    'model':[ 'brian' ],\n",
    "    'load_point':[ 'B2' ],\n",
    "    'duration' : [ 6000 ]\n",
    "})\n",
    "\n",
    "parametrization = parametrization_noadapt_aln\n",
    "\n",
    "for k in parametrization:\n",
    "    parametrization[k].extend(parametrization_noadapt_brian[k])\n",
    "    parametrization[k].extend(parametrization_adapt_aln[k])\n",
    "    parametrization[k].extend(parametrization_adapt_brian[k])"
   ]
  },
  {
   "cell_type": "code",
   "execution_count": null,
   "metadata": {
    "ExecuteTime": {
     "end_time": "2019-04-15T16:25:54.089392Z",
     "start_time": "2019-04-15T16:25:54.085995Z"
    },
    "collapsed": false
   },
   "outputs": [],
   "source": [
    "print(\"Number of parameter configurations: {}\".format(len(parametrization[parametrization.keys()[0]])))"
   ]
  },
  {
   "cell_type": "markdown",
   "metadata": {},
   "source": [
    "## Some tests"
   ]
  },
  {
   "cell_type": "code",
   "execution_count": null,
   "metadata": {
    "ExecuteTime": {
     "end_time": "2019-04-15T16:26:01.484146Z",
     "start_time": "2019-04-15T16:26:01.477731Z"
    },
    "collapsed": false
   },
   "outputs": [],
   "source": [
    "# load test parameters\n",
    "npar = 81\n",
    "\n",
    "for k in parametrization:\n",
    "    print(k, parametrization[k][npar])\n",
    "    params[k] = parametrization[k][npar]"
   ]
  },
  {
   "cell_type": "code",
   "execution_count": null,
   "metadata": {
    "ExecuteTime": {
     "end_time": "2019-04-15T16:26:19.617998Z",
     "start_time": "2019-04-15T16:26:02.070654Z"
    },
    "collapsed": false
   },
   "outputs": [],
   "source": [
    "# test run\n",
    "t_test, re_test, ri_test, stimulus_test = rm.runModels_stimulus(manual_params=params)"
   ]
  },
  {
   "cell_type": "code",
   "execution_count": null,
   "metadata": {
    "ExecuteTime": {
     "end_time": "2019-04-15T16:26:20.296234Z",
     "start_time": "2019-04-15T16:26:19.619207Z"
    },
    "collapsed": false
   },
   "outputs": [],
   "source": [
    "# plot test run\n",
    "plt.plot(t_test, re_test)\n",
    "plt.plot(t_test[-len(stimulus_test):], stimulus_test/np.max(stimulus_test)*np.max(re_test)/4, alpha=0.85, c='tomato')\n",
    "plt.show()"
   ]
  },
  {
   "cell_type": "markdown",
   "metadata": {},
   "source": [
    "## Run simulations"
   ]
  },
  {
   "cell_type": "code",
   "execution_count": null,
   "metadata": {
    "ExecuteTime": {
     "end_time": "2019-04-15T16:28:06.498723Z",
     "start_time": "2019-04-15T16:28:06.354627Z"
    },
    "collapsed": false
   },
   "outputs": [],
   "source": [
    "# ---- initialize pypet environment ----\n",
    "trajectoryName = 'results' + datetime.datetime.now().strftime(\"-%Y-%m-%d-%HH-%MM-%SS\")\n",
    "HDF_FILE = os.path.join(paths.HDF_DIR, 'bifurcation-diagrams-brian-aln.hdf')\n",
    "trajectoryFileName = HDF_FILE\n",
    "\n",
    "import multiprocessing\n",
    "ncores = multiprocessing.cpu_count()\n",
    "print(\"Number of cores: {}\".format(ncores))\n",
    "\n",
    "env = pp.Environment(trajectory=trajectoryName,filename=trajectoryFileName,\n",
    "                    file_title='E-I model exploration for bifurcation diagrams',\n",
    "                    large_overview_tables=True,\n",
    "                    multiproc=True,           \n",
    "                    ncores=ncores,\n",
    "                    wrap_mode='QUEUE',\n",
    "                    log_stdout = False\n",
    "                    )\n",
    "\n",
    "# Get the trajectory from the environment\n",
    "traj = env.v_trajectory\n",
    "trajectoryName = traj.v_name\n",
    "\n",
    "pe.add_parameters(traj, params)"
   ]
  },
  {
   "cell_type": "code",
   "execution_count": null,
   "metadata": {
    "ExecuteTime": {
     "start_time": "2019-04-15T14:28:17.098Z"
    },
    "collapsed": false
   },
   "outputs": [],
   "source": [
    "traj.f_explore(parametrization)\n",
    "env.f_run(rm.runModels_stimulus)\n",
    "env.f_disable_logging()\n",
    "print(\"Done.\")"
   ]
  },
  {
   "cell_type": "markdown",
   "metadata": {},
   "source": [
    "# Data analysis"
   ]
  },
  {
   "cell_type": "markdown",
   "metadata": {},
   "source": [
    "## Load results from disk"
   ]
  },
  {
   "cell_type": "code",
   "execution_count": null,
   "metadata": {
    "ExecuteTime": {
     "end_time": "2019-04-19T02:42:40.419688Z",
     "start_time": "2019-04-19T02:42:40.415610Z"
    },
    "collapsed": true
   },
   "outputs": [],
   "source": [
    "HDF_FILE = os.path.join(paths.HDF_DIR, 'bifurcation-diagrams-brian-aln.hdf')\n",
    "trajectoryFileName = HDF_FILE"
   ]
  },
  {
   "cell_type": "code",
   "execution_count": null,
   "metadata": {
    "ExecuteTime": {
     "end_time": "2019-04-19T02:43:40.586466Z",
     "start_time": "2019-04-19T02:42:40.968154Z"
    },
    "collapsed": false
   },
   "outputs": [],
   "source": [
    "# ---- load pypet trajectory \"trajectoryFileName\" ----\n",
    "print(\"Analyzing File \\\"{}\\\"\".format(trajectoryFileName))\n",
    "print(\"All Trajectories:\")\n",
    "print(pe.getTrajectoryNameInsideFile(trajectoryFileName))\n",
    "trajectoryName = pe.getTrajectoryNameInsideFile(trajectoryFileName)[-1]\n",
    "\n",
    "print(\"Analyzing trajectory \\\"{}\\\".\".format(trajectoryName))\n",
    "trajLoaded = pp.Trajectory(trajectoryName,add_time=False)\n",
    "trajLoaded.f_load(trajectoryName,filename=trajectoryFileName, force=True)\n",
    "trajLoaded.v_auto_load = True\n",
    "print(\"{} results found\".format(len(trajLoaded.f_get_results())))"
   ]
  },
  {
   "cell_type": "markdown",
   "metadata": {},
   "source": [
    "## Process data"
   ]
  },
  {
   "cell_type": "code",
   "execution_count": null,
   "metadata": {
    "ExecuteTime": {
     "end_time": "2019-04-15T20:56:56.200730Z",
     "start_time": "2019-04-15T20:56:56.184028Z"
    },
    "collapsed": true
   },
   "outputs": [],
   "source": [
    "nResults = len(trajLoaded.f_get_run_names()) # number of results in trajectory \n",
    "dt = trajLoaded.f_get_parameters()['parameters.simulation.dt'].f_get() # dt of simulation\n",
    "\n",
    "# ---- explored parameter list ----\n",
    "exploredParameters = trajLoaded.f_get_explored_parameters()\n",
    "niceParKeys = [p.split('.')[-1] for p in exploredParameters.keys()]\n",
    "\n",
    "# ---- lcreate pandas df with results as keys ----\n",
    "dfResults = pd.DataFrame(columns=niceParKeys,dtype=object)\n",
    "\n",
    "# range of parameters\n",
    "for nicep, p in zip(niceParKeys,exploredParameters.keys()):\n",
    "    dfResults[nicep] = exploredParameters[p].f_get_range()"
   ]
  },
  {
   "cell_type": "markdown",
   "metadata": {},
   "source": [
    "### Serial Processing"
   ]
  },
  {
   "cell_type": "code",
   "execution_count": null,
   "metadata": {
    "ExecuteTime": {
     "end_time": "2019-04-15T20:57:27.953112Z",
     "start_time": "2019-04-15T20:56:57.565730Z"
    },
    "collapsed": false
   },
   "outputs": [],
   "source": [
    "# ---- make a dictionary with results ----\n",
    "resultDicts = []\n",
    "makeDict = True\n",
    "\n",
    "#measures = ['domfr_exc', 'domfr_power_exc', 'max_exc', 'min_exc', 'updowndiff_exc', 'domfr_inh','domfr_power_inh', 'max_inh', 'min_inh', 'updowndiff_inh'] \n",
    "measures = ['domfr_exc', 'max_exc', 'updowndiff_exc', 'domfr_power_exc', 'max_inh']\n",
    "\n",
    "for rInd in tqdm.tqdm(range(nResults), total=nResults):\n",
    "    \n",
    "    for measure in measures:\n",
    "        dfResults.loc[rInd, measure] = func.analyse_run(measure, trajLoaded.results[rInd].f_to_dict(), dt)    \n",
    "    if makeDict:\n",
    "            resultDicts.append(trajLoaded.results[rInd].f_to_dict())\n",
    "            \n",
    "print(\"done.\")"
   ]
  },
  {
   "cell_type": "markdown",
   "metadata": {
    "ExecuteTime": {
     "end_time": "2019-02-21T15:12:19.968905Z",
     "start_time": "2019-02-21T15:12:19.967045Z"
    },
    "collapsed": true
   },
   "source": [
    "### Parallel processing"
   ]
  },
  {
   "cell_type": "code",
   "execution_count": null,
   "metadata": {
    "ExecuteTime": {
     "end_time": "2019-04-15T20:57:36.931086Z",
     "start_time": "2019-04-15T20:57:36.924902Z"
    },
    "collapsed": true
   },
   "outputs": [],
   "source": [
    "#print(trajLoaded.f_get('parameters.globalNetwork.N').f_get())\n",
    "#print(np.unique(trajLoaded.f_get('parameters.simulation.duration').f_get_range()))\n",
    "#mue_range = trajLoaded.f_get('parameters.localNetwork.mue_ext_mean').f_get_range()\n",
    "#mui_range = trajLoaded.f_get('parameters.localNetwork.mui_ext_mean').f_get_range()\n",
    "\n",
    "#print(\"Range: mue {} to {} ({} steps), mui {} to {} ({} steps)\".format(mue_range[0], mue_range[-1], len(np.unique(mue_range)),\n",
    "#                                                                       mui_range[0], mui_range[-1], len(np.unique(mui_range))))"
   ]
  },
  {
   "cell_type": "code",
   "execution_count": null,
   "metadata": {
    "ExecuteTime": {
     "end_time": "2019-04-15T21:10:34.290311Z",
     "start_time": "2019-04-15T21:10:12.564088Z"
    },
    "collapsed": false
   },
   "outputs": [],
   "source": [
    "from joblib import Parallel, delayed\n",
    "import multiprocessing\n",
    "num_cores = multiprocessing.cpu_count()   \n",
    "\n",
    "# ---- make a dictionary with results ----\n",
    "resultDicts = []\n",
    "makeDict = False\n",
    "print(\"Creating results dictionary ...\")\n",
    "runResults = []\n",
    "for rInd in range(len(dfResults)):\n",
    "    result = trajLoaded.results[rInd].f_to_dict()\n",
    "    runResults.append(result)\n",
    "    if makeDict:\n",
    "        resultDicts.append(result)\n",
    "print(\"done.\")\n",
    "\n",
    "for measure in ['domfr_exc', 'max_exc', 'updowndiff_exc', 'domfr_power_exc', 'max_inh']:\n",
    "    print(\"Analysing measure: {}\".format(measure))\n",
    "    parallelResults = Parallel(n_jobs=num_cores)(delayed(func.analyse_run)(measure = measure, result = i, dt = dt) for i in runResults)\n",
    "    dfResults[measure] = parallelResults\n",
    "print(\"done.\")"
   ]
  },
  {
   "cell_type": "markdown",
   "metadata": {},
   "source": [
    "## Save analyzed results"
   ]
  },
  {
   "cell_type": "code",
   "execution_count": null,
   "metadata": {
    "ExecuteTime": {
     "end_time": "2019-04-25T12:56:44.272935Z",
     "start_time": "2019-04-25T12:56:39.031902Z"
    },
    "collapsed": false
   },
   "outputs": [],
   "source": [
    "import pickle\n",
    "file_path_p = os.path.join(paths.PICKLE_DIR, 'pypet-bifurcation-diagram-large-longer-dfResults.p')\n",
    "if not os.path.isdir(paths.PICKLE_DIR): os.makedirs(paths.PICKLE_DIR)\n",
    "# uncomment to save results\n",
    "#pickle.dump(dfResults, file(file_path_p, \"w\"))\n",
    "\n",
    "# load precomputed results\n",
    "#dfResults = pickle.load(file(file_path_p, \"r\"))"
   ]
  },
  {
   "cell_type": "markdown",
   "metadata": {},
   "source": [
    "# Plot data"
   ]
  },
  {
   "cell_type": "code",
   "execution_count": null,
   "metadata": {
    "ExecuteTime": {
     "end_time": "2019-04-25T12:56:44.358047Z",
     "start_time": "2019-04-25T12:56:44.281186Z"
    },
    "collapsed": true
   },
   "outputs": [],
   "source": [
    "def annotate_plot(point, model, ax, annotate_points = True):\n",
    "    C = 1 # Capacitance, convert mV/ms to pA\n",
    "    if point[0] == 'A':\n",
    "        if model == 'brian':\n",
    "            # attractor labels -------------\n",
    "            ax.text(0.8,0.25, 'up', fontweight='bold', transform=ax.transAxes, #style='italic',\n",
    "                    bbox={'facecolor':'white', 'alpha':0.85, 'pad':8}, fontsize=25)\n",
    "            ax.text(0.35,0.06, 'LC$_{EI}$', fontweight='bold', transform=ax.transAxes, #style='italic',\n",
    "                    bbox={'facecolor':'white', 'alpha':0.85, 'pad':8}, fontsize=25)\n",
    "            ax.text(0.25,0.65, 'down', fontweight='bold', transform=ax.transAxes, #style='italic',\n",
    "                    bbox={'facecolor':'white', 'alpha':0.85, 'pad':8}, fontsize=25)\n",
    "            ax.text(0.8,0.65, 'bi', fontweight='bold', transform=ax.transAxes, #style='italic',\n",
    "                    bbox={'facecolor':'white', 'alpha':0.85, 'pad':8}, fontsize=25)\n",
    "\n",
    "        else:\n",
    "            # attractor labels -------------\n",
    "            ax.text(2.3,0.75, 'up', fontweight='bold',#style='italic',\n",
    "                    bbox={'facecolor':'white', 'alpha':0.9, 'pad':8}, fontsize=25)\n",
    "            ax.text(0.7,0.3, 'LC$_{EI}$', fontweight='bold',#style='italic',\n",
    "                    bbox={'facecolor':'white', 'alpha':0.9, 'pad':8}, fontsize=25)\n",
    "            ax.text(0.6,1.75, 'down', fontweight='bold',#style='italic',\n",
    "                    bbox={'facecolor':'white', 'alpha':0.9, 'pad':8}, fontsize=25)\n",
    "            ax.text(2.2,2.5, 'bi', fontweight='bold',#style='italic',\n",
    "                    bbox={'facecolor':'white', 'alpha':0.9, 'pad':8}, fontsize=25)\n",
    "\n",
    "        if annotate_points:\n",
    "            for p in ['A1', 'A2', 'A3']:\n",
    "                if model == 'brian':\n",
    "                    params_thispoint = fp.loadpoint_network(params, p)\n",
    "                else: \n",
    "                    params_thispoint = fp.loadpoint(params, p)\n",
    "                plotpoint = (params_thispoint['mue_ext_mean'], params_thispoint['mui_ext_mean'])\n",
    "                bbox_props = dict(boxstyle=\"circle\", fc=\"w\", ec=\"0.5\", pad=0.2, alpha=0.9)\n",
    "                ax.text(plotpoint[0], plotpoint[1], p, ha=\"center\", va=\"center\", size=20, bbox=bbox_props, transform=ax.transData)\n",
    "\n",
    "    elif point[0] == 'B':\n",
    "        if model == 'brian':\n",
    "            # attractor labels -------------\n",
    "            ax.text(0.88,0.25, 'up', fontweight='bold', transform=ax.transAxes, #style='italic',\n",
    "                    bbox={'facecolor':'white', 'alpha':0.85, 'pad':8}, fontsize=25)\n",
    "            ax.text(0.5,0.06, 'LC$_{EI}$', fontweight='bold',transform=ax.transAxes, #style='italic',\n",
    "                    bbox={'facecolor':'white', 'alpha':0.85, 'pad':8}, fontsize=25)\n",
    "            ax.text(0.3,0.7, 'down', fontweight='bold',transform=ax.transAxes, #style='italic',\n",
    "                    bbox={'facecolor':'white', 'alpha':0.85, 'pad':8}, fontsize=25)\n",
    "            ax.text(0.68,0.39, 'LC$_{aE}$', fontweight='bold',transform=ax.transAxes, #style='italic',\n",
    "                    bbox={'facecolor':'white', 'alpha':0.85, 'pad':8}, fontsize=25)\n",
    "        else:\n",
    "            # attractor labels -------------\n",
    "            ax.text(2.5, 0.3, u'LC$_{EI}$', fontweight='bold',#style='italic',\n",
    "                    bbox={'facecolor':'white', 'alpha':0.9, 'pad':8}, fontsize=25)\n",
    "            ax.text(4.0, 2.8, u'LC$_{aE}$', fontweight='bold',#style='italic',\n",
    "                    bbox={'facecolor':'white', 'alpha':0.9, 'pad':8}, fontsize=25)\n",
    "            ax.text(1.6, 2.75, 'down', fontweight='bold',#style='italic',\n",
    "                    bbox={'facecolor':'white', 'alpha':0.9, 'pad':8}, fontsize=25)\n",
    "            ax.text(4.3, 0.7, 'up', fontweight='bold',#style='italic',\n",
    "                    bbox={'facecolor':'white', 'alpha':0.9, 'pad':8}, fontsize=25)\n",
    "            \n",
    "        if annotate_points:\n",
    "            for p in ['B3', 'B4']:\n",
    "                if model == 'brian':\n",
    "                    params_thispoint = fp.loadpoint_network(params, p)\n",
    "                else: \n",
    "                    params_thispoint = fp.loadpoint(params, p)\n",
    "                plotpoint = (params_thispoint['mue_ext_mean'], params_thispoint['mui_ext_mean'])\n",
    "                bbox_props = dict(boxstyle=\"circle\", fc=\"w\", ec=\"0.5\", pad=0.2, alpha=0.9)\n",
    "                ax.text(plotpoint[0], plotpoint[1], p, ha=\"center\", va=\"center\", size=20, bbox=bbox_props, transform=ax.transData)\n",
    "            "
   ]
  },
  {
   "cell_type": "code",
   "execution_count": null,
   "metadata": {
    "ExecuteTime": {
     "end_time": "2019-04-25T16:18:06.203206Z",
     "start_time": "2019-04-25T16:18:05.983959Z"
    },
    "collapsed": true
   },
   "outputs": [],
   "source": [
    "up_down_threshold_hz = 10 # minimum difrernce of population rate between up and down state for bistable classification\n",
    "domfr_threshold = 0.5 # minimum dominant frequency of an oscillation for classification\n",
    "\n",
    "def plotResults(selectedResults, plot='max_exc', colorbarlabel = 'Maximum rate of E [Hz]', clim_max = 80, annotate = True, annotate_points = True, savefigname = None):\n",
    "    point = selectedResults.load_point.iloc[0]\n",
    "    model = selectedResults.model.iloc[0]\n",
    "    \n",
    "    plot_results = []\n",
    "    amplitudes = []\n",
    "    frequencies = []\n",
    "    oscillation_powers = []\n",
    "    max_inh_rates = []\n",
    "\n",
    "    up_down_differences = []\n",
    "    \n",
    "    for i in range(len(selectedResults)):\n",
    "        plot_results.append(selectedResults.iloc[i][plot])\n",
    "        #max_inh_rates.append(r['net']['max_inh'])\n",
    "        #amplitudes.append(selectedResults.iloc[i]['max_exc']-selectedResults.iloc[i]['min_exc'])\n",
    "        frequencies.append(selectedResults.iloc[i]['domfr_exc'])\n",
    "        up_down_differences.append(selectedResults.iloc[i]['updowndiff_exc'])\n",
    "        #oscillation_powers.append(selectedResults.iloc[i]['domfr_power_exc'])\n",
    "    \n",
    "    \n",
    "        \n",
    "    mues = np.unique(selectedResults['mue_ext_mean'])  \n",
    "    muis = np.unique(selectedResults['mui_ext_mean'])    \n",
    "    \n",
    "    # prepare matrixes for plotting\n",
    "    plot_results_matrix = np.reshape(plot_results, (len(mues), len(muis))).T\n",
    "    frequencies_matrix = np.reshape(frequencies, (len(mues), len(muis))).T\n",
    "    up_down_differences_matrix = np.reshape(up_down_differences, (len(mues), len(muis))).T\n",
    "    \n",
    "    # Fill in NaN's...\n",
    "    mask = np.isnan(plot_results_matrix)\n",
    "    plot_results_matrix[mask] = np.interp(np.flatnonzero(mask), np.flatnonzero(~mask), plot_results_matrix[~mask])\n",
    "    mask = np.isnan(frequencies_matrix)\n",
    "    frequencies_matrix[mask] = np.interp(np.flatnonzero(mask), np.flatnonzero(~mask), frequencies_matrix[~mask])\n",
    "    mask = np.isnan(up_down_differences_matrix)\n",
    "    up_down_differences_matrix[mask] = np.interp(np.flatnonzero(mask), np.flatnonzero(~mask), up_down_differences_matrix[~mask])  \n",
    "    \n",
    "    # if domfr, then zeros should be nan\n",
    "    if plot.startswith(\"domfr\"):\n",
    "        plot_results_matrix = np.ma.masked_where(plot_results_matrix == 0, plot_results_matrix)        \n",
    "    \n",
    "    # --------------------------\n",
    "    # -------  PLOTTING  -------\n",
    "    # --------------------------\n",
    "        \n",
    "    plt.figure(figsize=(10,8), dpi=300)\n",
    "    ax = plt.gca()\n",
    "    plt.imshow(plot_results_matrix, origin='lower', aspect='auto', extent = [mues[0], mues[-1], muis[0], muis[-1]])\n",
    "    \n",
    "    plt.locator_params(nbins=4 if point[0] == 'A' else 5) # reduce number of ticks\n",
    "    ax.tick_params(labelsize=20) \n",
    "    # multiply axis ticks with capacitance C to get nA \n",
    "    ax.set_xticklabels(np.round(np.multiply(ax.get_xticks(),0.2),2)) \n",
    "    ax.set_yticklabels(np.round(np.multiply(ax.get_yticks(),0.2),2)) \n",
    "    \n",
    "    plt.xlabel(\"Input to E [nA]\", fontsize=30)\n",
    "    plt.ylabel(\"Input to I [nA]\", fontsize=30)\n",
    "\n",
    "    plt.clim(0, clim_max)\n",
    "    cbar  = plt.colorbar(label='Maximum rate of E [Hz]', extend='max')\n",
    "    cbar.ax.tick_params(labelsize=15) \n",
    "    \n",
    "    cbar.set_label(colorbarlabel, fontsize = 22)\n",
    "    \n",
    "    if annotate:\n",
    "        # ----- LC contour -----\n",
    "        Z=frequencies_matrix.copy()\n",
    "        blurredZ =scipy.ndimage.filters.gaussian_filter(frequencies_matrix,0.0) # blurred\n",
    "        Z = blurredZ.copy()\n",
    "        frequency_threshold = domfr_threshold\n",
    "        Z[Z<frequency_threshold] = 0\n",
    "        Z[Z>=frequency_threshold] = 1\n",
    "\n",
    "        Xi,Yi = np.meshgrid(mues, muis)\n",
    "        cset2 = plt.contour(Xi, Yi, Z, colors='white', linestyles='solid', levels=[0, 1.0001], linewidths=(7,),zorder=1)\n",
    "\n",
    "        # ----- bistability contour -----\n",
    "        Z=up_down_differences_matrix.copy()\n",
    "        blurredZ =scipy.ndimage.filters.gaussian_filter(up_down_differences_matrix,0.0) # blurred\n",
    "        Z = blurredZ.copy()\n",
    "        up_down_threshold = up_down_threshold_hz\n",
    "        Z[Z<up_down_threshold] = 0\n",
    "        Z[Z>=up_down_threshold] = 1\n",
    "\n",
    "        Xi,Yi = np.meshgrid(mues, muis)\n",
    "        levels = np.arange(0,1,1)\n",
    "        cset2 = plt.contour(Xi, Yi, Z, colors='springgreen', linestyles='dashed', levels=[0, 1.0001], linewidths=(7,),zorder=2)\n",
    "\n",
    "        # annotate the plot with labels\n",
    "        annotate_plot(point, model, ax, annotate_points)\n",
    "    if savefigname:\n",
    "        fname = savefigname#, colorbarlabel[:-5].replace(\" \", \"_\")\n",
    "        print(\"Saving {}\".format(fname))\n",
    "        for extension in ['png', 'svg', 'jpg']:\n",
    "            plt.savefig(os.path.join(paths.FIGURES_DIR, \"bifurcation-plot-{}.{}\".format(fname, extension)))\n",
    "    plt.show()"
   ]
  },
  {
   "cell_type": "code",
   "execution_count": null,
   "metadata": {
    "ExecuteTime": {
     "end_time": "2019-04-25T16:22:44.656333Z",
     "start_time": "2019-04-25T16:19:05.648330Z"
    },
    "collapsed": false,
    "scrolled": false
   },
   "outputs": [],
   "source": [
    "load_point_range = np.unique(dfResults.load_point)\n",
    "model_range = np.unique(dfResults.model)\n",
    "\n",
    "for point in load_point_range:\n",
    "    for model in model_range:\n",
    "        print(point, model)\n",
    "        selector = (dfResults.model==model) & (dfResults.load_point==point)\n",
    "        selectedResults = dfResults[selector]\n",
    "        selectIndices = selectedResults.index\n",
    "        plotResults(selectedResults, 'max_exc', clim_max=80, colorbarlabel='Maximum rate of E [Hz]', savefigname='max_r_I_{}_{}'.format(model, point[0]))\n",
    "        plotResults(selectedResults, 'max_inh', clim_max=80, colorbarlabel='Maximum rate of I [Hz]', savefigname='max_r_I_{}_{}'.format(model, point[0]), annotate_points = False)\n",
    "        plotResults(selectedResults, 'domfr_exc', clim_max=35, colorbarlabel='Dominant frequency of E [Hz]', annotate=False, savefigname='domfr_E_{}_{}'.format(model, point[0]))\n",
    "        #plotResults(selectedResults, 'domfr_power_exc', clim_max=1000, colorbarlabel='Power of dominant frequency [Hz]', annotate=False)"
   ]
  },
  {
   "cell_type": "markdown",
   "metadata": {},
   "source": [
    "## Special definitions for plottings difference max(E) - max(I)"
   ]
  },
  {
   "cell_type": "code",
   "execution_count": null,
   "metadata": {
    "ExecuteTime": {
     "end_time": "2019-04-26T12:26:20.328643Z",
     "start_time": "2019-04-26T12:26:20.053630Z"
    },
    "collapsed": true
   },
   "outputs": [],
   "source": [
    "up_down_threshold_hz = 10\n",
    "domfr_threshold = 0.1\n",
    "\n",
    "def plotResults_exc_inh_diff(selectedResults, plot='max_exc', colorbarlabel = 'Maximum rate of E [Hz]', clim_max = 80, annotate = True, savefigname = None):\n",
    "    point = selectedResults.load_point.iloc[0]\n",
    "    model = selectedResults.model.iloc[0]\n",
    "    \n",
    "    plot_results = []\n",
    "    plot_results_inh = []\n",
    "    amplitudes = []\n",
    "    frequencies = []\n",
    "    oscillation_powers = []\n",
    "    max_inh_rates = []\n",
    "\n",
    "    up_down_differences = []\n",
    "    \n",
    "    for i in range(len(selectedResults)):\n",
    "        plot_results.append(selectedResults.iloc[i]['max_exc'])\n",
    "        plot_results_inh.append(selectedResults.iloc[i]['max_inh'])\n",
    "        #max_inh_rates.append(r['net']['max_inh'])\n",
    "        #amplitudes.append(selectedResults.iloc[i]['max_exc']-selectedResults.iloc[i]['min_exc'])\n",
    "        frequencies.append(selectedResults.iloc[i]['domfr_exc'])\n",
    "        up_down_differences.append(selectedResults.iloc[i]['updowndiff_exc'])\n",
    "        #oscillation_powers.append(selectedResults.iloc[i]['domfr_power_exc'])\n",
    "    \n",
    "    mues = np.unique(selectedResults['mue_ext_mean'])  \n",
    "    muis = np.unique(selectedResults['mui_ext_mean'])    \n",
    "    \n",
    "    # prepare matrixes for plotting\n",
    "    plot_results_matrix = np.reshape(plot_results, (len(mues), len(muis))).T\n",
    "    plot_results_inh_matrix = np.reshape(plot_results_inh, (len(mues), len(muis))).T\n",
    "    \n",
    "    frequencies_matrix = np.reshape(frequencies, (len(mues), len(muis))).T\n",
    "    up_down_differences_matrix = np.reshape(up_down_differences, (len(mues), len(muis))).T\n",
    "    \n",
    "    # Fill in NaN's...\n",
    "    mask = np.isnan(plot_results_matrix)\n",
    "    plot_results_matrix[mask] = np.interp(np.flatnonzero(mask), np.flatnonzero(~mask), plot_results_matrix[~mask])\n",
    "    mask = np.isnan(plot_results_inh_matrix)\n",
    "    plot_results_inh_matrix[mask] = np.interp(np.flatnonzero(mask), np.flatnonzero(~mask), plot_results_inh_matrix[~mask])\n",
    "    #mask = np.isnan(amplitudes_matrix)\n",
    "    #amplitudes_matrix[mask] = np.interp(np.flatnonzero(mask), np.flatnonzero(~mask), amplitudes_matrix[~mask])\n",
    "    mask = np.isnan(frequencies_matrix)\n",
    "    frequencies_matrix[mask] = np.interp(np.flatnonzero(mask), np.flatnonzero(~mask), frequencies_matrix[~mask])\n",
    "    mask = np.isnan(up_down_differences_matrix)\n",
    "    up_down_differences_matrix[mask] = np.interp(np.flatnonzero(mask), np.flatnonzero(~mask), up_down_differences_matrix[~mask])  \n",
    "    \n",
    "    \n",
    "    # subtract inhibitory rates from excitatory rates\n",
    "    plot_results_matrix -= plot_results_inh_matrix\n",
    "    \n",
    "    # --------------------------\n",
    "    # -------  PLOTTING  -------\n",
    "    # --------------------------\n",
    "    \n",
    "    C = 1 # Capacitance, convert mV/ms to pA\n",
    "    \n",
    "    plt.figure(figsize=(10,8), dpi=300)\n",
    "    ax = plt.gca()\n",
    "    plt.imshow(plot_results_matrix, origin='lower', aspect='auto', extent = [mues[0]*C, mues[-1]*C, muis[0]*C, muis[-1]*C], cmap='seismic')\n",
    "    \n",
    "    plt.locator_params(nbins=4 if point[0] == 'A' else 5) # reduce number of ticks\n",
    "    ax.tick_params(labelsize=20) \n",
    "    # multiply axis ticks with capacitance C to get nA \n",
    "    ax.set_xticklabels(np.multiply(ax.get_xticks(),0.2)) \n",
    "    ax.set_yticklabels(np.multiply(ax.get_yticks(),0.2)) \n",
    "        \n",
    "    plt.xlabel(\"Input to E [nA]\", fontsize=30)\n",
    "    plt.ylabel(\"Input to I [nA]\", fontsize=30)\n",
    "\n",
    "    plt.clim(-100, 100)\n",
    "    cbar  = plt.colorbar(label='Maximum rate of E [Hz]', extend='both')\n",
    "    cbar.ax.tick_params(labelsize=15) \n",
    "    \n",
    "    cbar.set_label(colorbarlabel, fontsize = 22)\n",
    "    \n",
    "    if annotate:\n",
    "        # ----- LC contour -----\n",
    "        Z=frequencies_matrix.copy()\n",
    "        blurredZ =scipy.ndimage.filters.gaussian_filter(frequencies_matrix,0.0) # blurred\n",
    "        Z = blurredZ.copy()\n",
    "        frequency_threshold = domfr_threshold\n",
    "        Z[Z<frequency_threshold] = 0\n",
    "        Z[Z>=frequency_threshold] = 1\n",
    "\n",
    "        Xi,Yi = np.meshgrid(mues*C, muis*C)\n",
    "        cset2 = plt.contour(Xi, Yi, Z, colors='white', linestyles='solid', levels=[0, 1.0001], linewidths=(7,),zorder=1)\n",
    "\n",
    "        # ----- bistability contour -----\n",
    "        Z=up_down_differences_matrix.copy()\n",
    "        blurredZ =scipy.ndimage.filters.gaussian_filter(up_down_differences_matrix,0.0) # blurred\n",
    "        Z = blurredZ.copy()\n",
    "        up_down_threshold = up_down_threshold_hz\n",
    "        Z[Z<up_down_threshold] = 0\n",
    "        Z[Z>=up_down_threshold] = 1\n",
    "\n",
    "        Xi,Yi = np.meshgrid(mues*C, muis*C)\n",
    "        levels = np.arange(0,1,1)\n",
    "        cset2 = plt.contour(Xi, Yi, Z, colors='springgreen', linestyles='dashed', levels=[0, 1.0001], linewidths=(7,),zorder=2)\n",
    "\n",
    "        # annotate the plot with labels\n",
    "        annotate_plot(point, model, ax, annotate_points = False)\n",
    "    plt.show()"
   ]
  },
  {
   "cell_type": "code",
   "execution_count": null,
   "metadata": {
    "ExecuteTime": {
     "end_time": "2019-04-26T12:30:06.469089Z",
     "start_time": "2019-04-26T12:26:21.077178Z"
    },
    "collapsed": false,
    "scrolled": false
   },
   "outputs": [],
   "source": [
    "load_point_range = np.unique(dfResults.load_point)\n",
    "model_range = np.unique(dfResults.model)\n",
    "\n",
    "for point in load_point_range:\n",
    "    for model in model_range:\n",
    "        print(point, model)\n",
    "        selector = (dfResults.model==model) & (dfResults.load_point==point)\n",
    "        selectedResults = dfResults[selector]\n",
    "        selectIndices = selectedResults.index\n",
    "        plotResults_exc_inh_diff(selectedResults, 'max_exc', clim_max=80, colorbarlabel='max(E) - max(I) [Hz]')"
   ]
  },
  {
   "cell_type": "markdown",
   "metadata": {},
   "source": [
    "## Plot individual trace from results"
   ]
  },
  {
   "cell_type": "code",
   "execution_count": null,
   "metadata": {
    "ExecuteTime": {
     "end_time": "2019-04-25T12:56:13.272054Z",
     "start_time": "2019-04-25T12:56:12.696204Z"
    },
    "collapsed": false
   },
   "outputs": [],
   "source": [
    "# load result from hdf trajectory\n",
    "run_id = 11\n",
    "res = trajLoaded.results[run_id].f_to_dict() \n",
    "t_net, re_net, ri_net, stimulus_net = res['t'], res['rate_exc'], res['rate_inh'], res['stimulus']\n",
    "\n",
    "# plot\n",
    "plt.plot(t_net, re_net)\n",
    "plt.plot(t_net[-len(stimulus_net):], stimulus_net/np.max(stimulus_net)*np.max(re_net)/4, alpha=0.85, c='tomato')\n",
    "plt.show()"
   ]
  }
 ],
 "metadata": {
  "kernelspec": {
   "display_name": "Python 2",
   "language": "python",
   "name": "python2"
  },
  "language_info": {
   "codemirror_mode": {
    "name": "ipython",
    "version": 2
   },
   "file_extension": ".py",
   "mimetype": "text/x-python",
   "name": "python",
   "nbconvert_exporter": "python",
   "pygments_lexer": "ipython2",
   "version": "2.7.13"
  },
  "toc": {
   "nav_menu": {},
   "number_sections": true,
   "sideBar": false,
   "skip_h1_title": false,
   "toc_cell": false,
   "toc_position": {
    "height": "474px",
    "left": "1px",
    "right": "20px",
    "top": "105.99px",
    "width": "212px"
   },
   "toc_section_display": "block",
   "toc_window_display": true
  }
 },
 "nbformat": 4,
 "nbformat_minor": 2
}
