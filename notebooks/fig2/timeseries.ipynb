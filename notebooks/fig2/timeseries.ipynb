{
 "cells": [
  {
   "cell_type": "markdown",
   "metadata": {},
   "source": [
    "# Definitions"
   ]
  },
  {
   "cell_type": "code",
   "execution_count": null,
   "metadata": {
    "ExecuteTime": {
     "end_time": "2019-04-19T04:49:28.527111Z",
     "start_time": "2019-04-19T04:49:28.520222Z"
    },
    "collapsed": true
   },
   "outputs": [],
   "source": [
    "# change working directory to the project root\n",
    "import os\n",
    "os.chdir('../../')\n",
    "\n",
    "import sys\n",
    "sys.path.append('models/utils')\n",
    "sys.path.append('models/brian2')\n",
    "sys.path.append('models/aln')"
   ]
  },
  {
   "cell_type": "code",
   "execution_count": null,
   "metadata": {
    "ExecuteTime": {
     "end_time": "2019-04-19T04:49:34.925116Z",
     "start_time": "2019-04-19T04:49:28.951628Z"
    }
   },
   "outputs": [],
   "source": [
    "import os\n",
    "import matplotlib.pyplot as plt\n",
    "% matplotlib inline\n",
    "import numpy as np\n",
    "import scipy.signal\n",
    "\n",
    "import fitparams as fp\n",
    "import functions as func\n",
    "import runModels as rm\n",
    "import paths"
   ]
  },
  {
   "cell_type": "code",
   "execution_count": null,
   "metadata": {
    "ExecuteTime": {
     "end_time": "2019-04-19T04:49:34.933480Z",
     "start_time": "2019-04-19T04:49:34.928447Z"
    },
    "collapsed": true
   },
   "outputs": [],
   "source": [
    "# sett dpi for notebooks on server\n",
    "plt.rcParams['svg.fonttype'] = 'none'\n",
    "plt.rcParams['savefig.dpi'] = 300\n",
    "plt.rcParams['image.cmap'] = 'plasma'"
   ]
  },
  {
   "cell_type": "code",
   "execution_count": null,
   "metadata": {
    "ExecuteTime": {
     "end_time": "2019-04-19T04:49:34.975289Z",
     "start_time": "2019-04-19T04:49:34.935585Z"
    },
    "collapsed": true
   },
   "outputs": [],
   "source": [
    "params = []\n",
    "params = fp.loadpoint(params, 'A2')\n",
    "\n",
    "params['dt'] = 0.1\n",
    "params['duration'] = 3000.0\n",
    "params['sigma_ou'] = 0.0\n",
    "\n",
    "N_neurons = 25000"
   ]
  },
  {
   "cell_type": "markdown",
   "metadata": {},
   "source": [
    "# Plot data"
   ]
  },
  {
   "cell_type": "code",
   "execution_count": null,
   "metadata": {
    "ExecuteTime": {
     "end_time": "2019-04-19T04:52:50.973624Z",
     "start_time": "2019-04-19T04:49:34.977839Z"
    },
    "scrolled": false
   },
   "outputs": [],
   "source": [
    "models = ['aln', 'brian']\n",
    "points = ['A2', 'B3']\n",
    "\n",
    "for model in models:\n",
    "    params['model'] = model\n",
    "    fig, axs = plt.subplots(2, 1, figsize=(2.75, 2), dpi=300)\n",
    "\n",
    "    for ip, point in enumerate(points):\n",
    "\n",
    "        if model == 'aln':\n",
    "            params = fp.loadpoint(params, point, newIC=True)\n",
    "        elif model == 'brian':\n",
    "            params = fp.loadpoint_network(params, point)\n",
    "        params['dt'] = 0.1\n",
    "        params['duration'] = 2000.0\n",
    "        params['sigma_ou'] = 0.0\n",
    "        params['N'] = N_neurons\n",
    "        params['load_point'] = point\n",
    "        \n",
    "        print(model, point)\n",
    "\n",
    "        plotLen = int(1.2 * 1000 / params['dt'])\n",
    "\n",
    "        t, rates_exc, rates_inh, stimulus = rm.runModels(manual_params=params)\n",
    "\n",
    "        plotData = rates_exc[-plotLen:]\n",
    "        \n",
    "        # determining the dominant frequency \n",
    "        nperseg = int(1 * 1000 / params['dt'])  # welch parameter below\n",
    "        maxfr = 75\n",
    "        f_orig, Pxx_spec_orig = scipy.signal.welch(rates_exc[int(1 * 1000 / params['dt']):], 1 / params['dt'] * 1000,\n",
    "                                                  'flattop', nperseg, scaling='spectrum')\n",
    "        orig_peak_frequency = f_orig[Pxx_spec_orig.argmax()]\n",
    "        maxfreqIndex = np.abs(f_orig - maxfr).argmin()\n",
    "        print(\"Maximum Powerspectrum peak without stimulation: {} at {}Hz\".format(np.max(np.sqrt(Pxx_spec_orig)),\n",
    "                                                                                 orig_peak_frequency))\n",
    "        Pxx_spec_orig = Pxx_spec_orig[:maxfreqIndex]\n",
    "        f_orig = f_orig[:maxfreqIndex]\n",
    "        Pxx_spec_orig_max = np.max(np.sqrt(Pxx_spec_orig))\n",
    "\n",
    "        # Plotting\n",
    "        \n",
    "        axs[ip].plot(np.linspace(0, plotLen / 1000 * params['dt'], plotLen), rates_exc[-plotLen:].T, c='C3', label='$r_E$')\n",
    "        axs[ip].plot(np.linspace(0, plotLen / 1000 * params['dt'], plotLen), rates_inh[-plotLen:].T, c='C0', label='$r_I$')\n",
    "\n",
    "        axs[ip].set_xlim([0.0, 1.0])\n",
    "\n",
    "        plotpoint = [0.10, np.max(plotData) * 0.78]\n",
    "\n",
    "        bbox_props = dict(boxstyle=\"circle\", fc=\"w\", ec=\"0.5\", alpha=0.98)\n",
    "        axs[ip].text(plotpoint[0], 0.8, point, ha=\"center\", va=\"center\", size=8, bbox=bbox_props, transform = axs[ip].transAxes)\n",
    "        \n",
    "        axs[ip].set_xticks([0, 0.5, 1])\n",
    "        axs[ip].tick_params(size=1)\n",
    "        axs[ip].tick_params(length=3)\n",
    "        \n",
    "        if model == 'aln':\n",
    "            axs[ip].set_ylabel(\"Population\\nrate [Hz]\", fontsize=8)\n",
    "\n",
    "        if ip < len(points) - 1:\n",
    "            axs[ip].set_xticks([])\n",
    "        else:\n",
    "            axs[ip].set_xlabel(\"Time [s]\", fontsize=8)\n",
    "\n",
    "    if model == 'brian':\n",
    "        axs[0].legend(loc=1, prop={'size': 8})\n",
    "\n",
    "    plt.tight_layout(pad=0.3, w_pad=-0.3)  # , h_pad=1.0)\n",
    "\n",
    "    if model == 'aln':\n",
    "        axs[0].set_yticks([0, 30])\n",
    "        axs[1].set_yticks([0, 50])\n",
    "    elif model == 'brian':\n",
    "        axs[0].set_yticks([0, 100])\n",
    "        axs[1].set_yticks([0, 50])        \n",
    "\n",
    "    for k in range(2):\n",
    "        axs[k].tick_params(size=1)\n",
    "        axs[k].tick_params(length=3)\n",
    "\n",
    "    for k in range(2):\n",
    "        axs[k].spines['right'].set_visible(False)\n",
    "        axs[k].spines['top'].set_visible(False)\n",
    "        axs[k].spines['bottom'].set_visible(False)\n",
    "        axs[k].spines['left'].set_visible(False)\n",
    "        axs[k].tick_params(direction='out', length=4, width=1, colors='k', labelsize=6)\n",
    "\n",
    "    # TODO create dirs hierarchy dynamically\n",
    "    fname = \"traces-{}\".format(model)\n",
    "    print(\"Saving {}\".format(fname))\n",
    "    for extension in ['png', 'svg', 'jpg']:\n",
    "        plt.savefig(os.path.join(paths.FIGURES_DIR, \"{}.{}\".format(fname, extension)))\n",
    "    plt.show()"
   ]
  }
 ],
 "metadata": {
  "kernelspec": {
   "display_name": "Python 2",
   "language": "python",
   "name": "python2"
  },
  "language_info": {
   "codemirror_mode": {
    "name": "ipython",
    "version": 2
   },
   "file_extension": ".py",
   "mimetype": "text/x-python",
   "name": "python",
   "nbconvert_exporter": "python",
   "pygments_lexer": "ipython2",
   "version": "2.7.15"
  },
  "latex_envs": {
   "LaTeX_envs_menu_present": true,
   "autocomplete": true,
   "bibliofile": "biblio.bib",
   "cite_by": "apalike",
   "current_citInitial": 1,
   "eqLabelWithNumbers": true,
   "eqNumInitial": 1,
   "hotkeys": {
    "equation": "Ctrl-E",
    "itemize": "Ctrl-I"
   },
   "labels_anchors": false,
   "latex_user_defs": false,
   "report_style_numbering": false,
   "user_envs_cfg": false
  },
  "toc": {
   "nav_menu": {},
   "number_sections": true,
   "sideBar": true,
   "skip_h1_title": false,
   "toc_cell": false,
   "toc_position": {},
   "toc_section_display": "block",
   "toc_window_display": false
  }
 },
 "nbformat": 4,
 "nbformat_minor": 2
}
