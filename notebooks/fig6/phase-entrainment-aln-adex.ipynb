{
 "cells": [
  {
   "cell_type": "markdown",
   "metadata": {},
   "source": [
    "# Definitions"
   ]
  },
  {
   "cell_type": "code",
   "execution_count": null,
   "metadata": {
    "ExecuteTime": {
     "end_time": "2019-05-29T12:27:20.030303Z",
     "start_time": "2019-05-29T12:27:20.021506Z"
    },
    "collapsed": true
   },
   "outputs": [],
   "source": [
    "# change working directory to the project root\n",
    "import os\n",
    "os.chdir('../../')\n",
    "\n",
    "import sys\n",
    "sys.path.append('models/utils')\n",
    "sys.path.append('models/brian2')\n",
    "sys.path.append('models/aln')"
   ]
  },
  {
   "cell_type": "code",
   "execution_count": null,
   "metadata": {
    "ExecuteTime": {
     "end_time": "2019-05-29T12:27:49.618236Z",
     "start_time": "2019-05-29T12:27:20.599784Z"
    },
    "collapsed": true
   },
   "outputs": [],
   "source": [
    "# import python packages\n",
    "from __future__ import print_function\n",
    "import os\n",
    "import datetime\n",
    "import tqdm\n",
    "import matplotlib.pyplot as plt\n",
    "% matplotlib inline\n",
    "import numpy as np\n",
    "import scipy \n",
    "import pandas as pd\n",
    "import pypet as pp\n",
    "\n",
    "# import utils libs\n",
    "import pypet_parameters as pe\n",
    "import fitparams as fp\n",
    "import functions as func\n",
    "import runModels as rm\n",
    "import paths"
   ]
  },
  {
   "cell_type": "code",
   "execution_count": null,
   "metadata": {
    "ExecuteTime": {
     "end_time": "2019-05-29T12:27:49.626484Z",
     "start_time": "2019-05-29T12:27:49.621451Z"
    },
    "collapsed": true
   },
   "outputs": [],
   "source": [
    "# sett dpi for notebooks on server\n",
    "plt.rcParams['svg.fonttype'] = 'none'\n",
    "plt.rcParams['savefig.dpi'] = 300\n",
    "plt.rcParams['image.cmap'] = 'plasma'"
   ]
  },
  {
   "cell_type": "code",
   "execution_count": null,
   "metadata": {
    "ExecuteTime": {
     "end_time": "2019-05-29T12:27:49.658341Z",
     "start_time": "2019-05-29T12:27:49.629040Z"
    },
    "collapsed": true
   },
   "outputs": [],
   "source": [
    "params = []\n",
    "params = fp.loadpoint(params, \"A2\")\n",
    "\n",
    "params['dt'] = 0.1\n",
    "params['duration'] =  20000 # 20 seconds\n",
    "params['sigma_ou'] = 0.0\n",
    "\n",
    "N_neurons = 10000\n",
    "params['N'] = N_neurons\n",
    "params['model'] = 'aln'"
   ]
  },
  {
   "cell_type": "markdown",
   "metadata": {},
   "source": [
    "# Parameter exploration"
   ]
  },
  {
   "cell_type": "code",
   "execution_count": null,
   "metadata": {
    "ExecuteTime": {
     "end_time": "2019-04-25T14:42:43.856853Z",
     "start_time": "2019-04-25T14:42:43.788122Z"
    },
    "collapsed": true
   },
   "outputs": [],
   "source": [
    "parametrization_aln = pp.cartesian_product({\n",
    "    'f_sin':[ round(elem, 5) for elem in np.linspace(20.85, 22.85, 41)],\n",
    "    'A_sin':[ round(elem, 5) for elem in np.linspace(0.001, 0.06, 59)],\n",
    "    'model':[ 'aln' ],\n",
    "    'load_point':[ 'A2' ]    \n",
    "})\n",
    "\n",
    "parametrization_brian = pp.cartesian_product({\n",
    "    'f_sin':[ round(elem, 5) for elem in np.linspace(29, 31, 41)],\n",
    "    'A_sin':[ round(elem, 5) for elem in np.linspace(0.01, 0.2, 59)],\n",
    "    'model':[ 'brian' ],\n",
    "    'load_point':[ 'A2' ]    \n",
    "})\n",
    "\n",
    "parametrization = parametrization_aln\n",
    "for k in parametrization:\n",
    "    parametrization[k].extend(parametrization_brian[k])"
   ]
  },
  {
   "cell_type": "code",
   "execution_count": null,
   "metadata": {
    "ExecuteTime": {
     "end_time": "2019-04-25T14:39:49.984129Z",
     "start_time": "2019-04-25T14:39:49.980770Z"
    },
    "collapsed": false
   },
   "outputs": [],
   "source": [
    "print(\"Number of parameter configurations: {}\".format(len(parametrization[parametrization.keys()[0]])))"
   ]
  },
  {
   "cell_type": "code",
   "execution_count": null,
   "metadata": {
    "ExecuteTime": {
     "end_time": "2019-04-25T14:39:50.279059Z",
     "start_time": "2019-04-25T14:39:49.985998Z"
    },
    "collapsed": false
   },
   "outputs": [],
   "source": [
    "# ---- initialize pypet environment ----\n",
    "trajectoryName = 'results' + datetime.datetime.now().strftime(\"-%Y-%m-%d-%HH-%MM-%SS\")\n",
    "HDF_FILE = os.path.join(paths.HDF_DIR, 'phase-entrainment-aln-adex.hdf')\n",
    "trajectoryFileName = HDF_FILE\n",
    "\n",
    "import multiprocessing\n",
    "ncores = multiprocessing.cpu_count()\n",
    "print(\"Number of cores: {}\".format(ncores))\n",
    "\n",
    "\n",
    "\n",
    "env = pp.Environment(trajectory=trajectoryName,filename=trajectoryFileName,\n",
    "                    file_title='phase entrainment',\n",
    "                    large_overview_tables=True,\n",
    "                    multiproc=True,           \n",
    "                    ncores=ncores,\n",
    "                    wrap_mode='QUEUE',\n",
    "                    log_stdout = False\n",
    "                    )\n",
    "\n",
    "# Get the trajectory from the environment\n",
    "traj = env.v_trajectory\n",
    "trajectoryName = traj.v_name\n",
    "\n",
    "pe.add_parameters(traj, params)"
   ]
  },
  {
   "cell_type": "code",
   "execution_count": null,
   "metadata": {
    "ExecuteTime": {
     "end_time": "2019-04-25T14:40:31.675292Z",
     "start_time": "2019-04-25T14:39:50.281870Z"
    },
    "collapsed": false
   },
   "outputs": [],
   "source": [
    "traj.f_explore(parametrization)\n",
    "env.f_run(rm.runModels_stimulus)\n",
    "env.f_disable_logging()\n",
    "print(\"Done.\")"
   ]
  },
  {
   "cell_type": "markdown",
   "metadata": {},
   "source": [
    "# Data analysis"
   ]
  },
  {
   "cell_type": "markdown",
   "metadata": {
    "ExecuteTime": {
     "end_time": "2019-04-15T22:01:13.590706Z",
     "start_time": "2019-04-15T22:01:13.585921Z"
    }
   },
   "source": [
    "## Load results from disk"
   ]
  },
  {
   "cell_type": "code",
   "execution_count": null,
   "metadata": {
    "ExecuteTime": {
     "end_time": "2019-05-29T12:36:28.830762Z",
     "start_time": "2019-05-29T12:36:28.825796Z"
    },
    "collapsed": false
   },
   "outputs": [],
   "source": [
    "HDF_FILE = os.path.join(paths.HDF_DIR, 'phase-entrainment-aln-adex.hdf')\n",
    "trajectoryFileName = HDF_FILE"
   ]
  },
  {
   "cell_type": "code",
   "execution_count": null,
   "metadata": {
    "ExecuteTime": {
     "end_time": "2019-05-29T12:36:33.347242Z",
     "start_time": "2019-05-29T12:36:29.915886Z"
    },
    "collapsed": false
   },
   "outputs": [],
   "source": [
    "# ---- load pypet trajectory \"trajectoryFileName\" ----\n",
    "print(\"Analyzing File \\\"{}\\\"\".format(trajectoryFileName))\n",
    "print(\"All Trajectories:\")\n",
    "print(pe.getTrajectoryNameInsideFile(trajectoryFileName))\n",
    "trajectoryName = pe.getTrajectoryNameInsideFile(trajectoryFileName)[-1]\n",
    "\n",
    "print(\"Analyzing trajectory \\\"{}\\\".\".format(trajectoryName))\n",
    "trajLoaded = pp.Trajectory(trajectoryName,add_time=False)\n",
    "trajLoaded.f_load(trajectoryName,filename=trajectoryFileName, force=True)\n",
    "trajLoaded.v_auto_load = True\n",
    "print(\"{} results found\".format(len(trajLoaded.f_get_results())))"
   ]
  },
  {
   "cell_type": "code",
   "execution_count": null,
   "metadata": {
    "ExecuteTime": {
     "end_time": "2019-04-25T14:58:44.016282Z",
     "start_time": "2019-04-25T14:43:06.311124Z"
    },
    "collapsed": false
   },
   "outputs": [],
   "source": [
    "nResults = len(trajLoaded.f_get_run_names()) # number of results in trajectory \n",
    "dt = trajLoaded.f_get_parameters()['parameters.simulation.dt'].f_get() # dt of simulation\n",
    "\n",
    "# ---- explored parameter list ----\n",
    "exploredParameters = trajLoaded.f_get_explored_parameters()\n",
    "niceParKeys = [p.split('.')[-1] for p in exploredParameters.keys()]\n",
    "\n",
    "# ---- lcreate pandas df with results as keys ----\n",
    "dfResults = pd.DataFrame(columns=niceParKeys,dtype=object)\n",
    "\n",
    "# range of parameters\n",
    "for nicep, p in zip(niceParKeys,exploredParameters.keys()):\n",
    "    dfResults[nicep] = exploredParameters[p].f_get_range()\n",
    "    \n",
    "# ---- make a dictionary with results ----\n",
    "resultDicts = []\n",
    "print(\"Creating results dictionary ...\")\n",
    "runResults = []\n",
    "for rInd in tqdm.tqdm(range(len(dfResults)), total=len(dfResults)):\n",
    "    result = trajLoaded.results[rInd].f_to_dict()\n",
    "    result['model'] = dfResults.iloc[rInd]['model']\n",
    "    runResults.append(result)\n",
    "print(\"done.\")    "
   ]
  },
  {
   "cell_type": "markdown",
   "metadata": {},
   "source": [
    "## Analysis functions"
   ]
  },
  {
   "cell_type": "code",
   "execution_count": null,
   "metadata": {
    "ExecuteTime": {
     "end_time": "2019-04-25T15:02:42.941696Z",
     "start_time": "2019-04-25T15:02:42.884757Z"
    },
    "collapsed": true
   },
   "outputs": [],
   "source": [
    "def kuramoto(traces, smoothing=0.0, dt = 0.1, debug = False, peakrange=[0.1, 0.2]):\n",
    "    phases = []\n",
    "    nTraces = len(traces)\n",
    "    for n in range(nTraces):\n",
    "        tList = np.dot(range(len(traces[n])),dt/1000)\n",
    "        a = traces[n]\n",
    "        \n",
    "        # find peaks\n",
    "        if smoothing > 0:\n",
    "            a = scipy.ndimage.filters.gaussian_filter(traces[n], smoothing) # smooth data\n",
    "        maximalist = scipy.signal.find_peaks_cwt(a, np.arange(peakrange[0], peakrange[1]))\n",
    "        maximalist = np.append(maximalist, len(traces[n])-1).astype(int)\n",
    "        \n",
    "        if len(maximalist) > 1:\n",
    "            #for m in maximalist:\n",
    "                #plt.scatter(m, a[m] , c='C{}'.format(n), zorder = 20, s=10.5)\n",
    "\n",
    "            phases.append([])\n",
    "            lastMax = 0\n",
    "            for m in maximalist:\n",
    "                #print(lastMax, m)\n",
    "                for t in range(lastMax, m):\n",
    "                    phi = 2 * np.pi * float(t - lastMax) / float(m - lastMax)\n",
    "                    phases[n].append(phi)\n",
    "                lastMax = m\n",
    "            phases[n].append(2 * np.pi)\n",
    "            #plt.plot(phases[n], c='C{}'.format(n),)\n",
    "        else:\n",
    "            return 0\n",
    "    \n",
    "    # determine kuramoto order paramter\n",
    "    kuramoto = []\n",
    "    for t in range(len(tList)):\n",
    "        R = 1j*0\n",
    "        for n in range(nTraces):\n",
    "            R += np.exp(1j * phases[n][t])\n",
    "        R /= nTraces\n",
    "        kuramoto.append(np.absolute(R))\n",
    "    \n",
    "    \n",
    "    #plt.plot(kuramoto, c='g')\n",
    "    #plt.show()   \n",
    "    return kuramoto\n",
    "    \n",
    "#kuramoto(traces, 5)"
   ]
  },
  {
   "cell_type": "code",
   "execution_count": null,
   "metadata": {
    "ExecuteTime": {
     "end_time": "2019-04-25T15:19:57.570318Z",
     "start_time": "2019-04-25T15:19:57.387481Z"
    },
    "collapsed": false
   },
   "outputs": [],
   "source": [
    "def analyse_run(measure = 'domfr', result = []):\n",
    "    t = result['t']\n",
    "    rate = result['rate_exc']\n",
    "    stimulus = result['stimulus']\n",
    "    model = result['model']\n",
    "    \n",
    "    # subsample data\n",
    "    if model == 'brian':\n",
    "        traces = [rate[::10], stimulus[::10]]\n",
    "    else:\n",
    "        traces = [rate[::10], stimulus[::10]] \n",
    "    \n",
    "    if measure == 'mean_kuramoto':\n",
    "        if model == 'brian':\n",
    "            kur = kuramoto(traces, smoothing=5.0)\n",
    "        else:\n",
    "            kur = kuramoto(traces, smoothing=5.0)\n",
    "        kur_analyze = kur[5000:-500]\n",
    "        meankur = np.mean(kur_analyze)\n",
    "        stdkur = np.std(kur_analyze)\n",
    "        return meankur\n",
    "        \n",
    "    if measure == 'std_kuramoto':\n",
    "        if model == 'brian':\n",
    "            kur = kuramoto(traces, smoothing=5.0)\n",
    "        else:\n",
    "            kur = kuramoto(traces, smoothing=5.0)\n",
    "        kur_analyze = kur[5000:-500]        \n",
    "        meankur = np.mean(kur_analyze)\n",
    "        stdkur = np.std(kur_analyze)\n",
    "        return stdkur\n",
    "    \n",
    "    if measure == 'plot':\n",
    "        traces = [traces[0][100:], traces[1][100:]]\n",
    "        bis = len(stimulus)\n",
    "        \n",
    "        min_len = np.min([len(traces[0]), len(traces[1])])\n",
    "        traces = [traces[0][:min_len], traces[1][:min_len]]\n",
    "        # traces and stimulus plot\n",
    "        tlist_r = np.multiply(range(len(traces[0])),0.001)\n",
    "        tlist_s = np.multiply(range(len(traces[1])),0.001)\n",
    "        \n",
    "        f, axs = plt.subplots(2, 1, sharex=True, figsize=(4, 2.0), dpi=300)\n",
    "        #plt.figure(figsize=(4, 1.0), dpi=300)\n",
    "        axs[0].plot(tlist_r, (traces[0]-np.mean(traces[0]))/np.std(traces[0]), lw=0.5, c='k')\n",
    "        axs[0].plot(tlist_s, (traces[1]-np.mean(traces[1]))/np.std(traces[1]), lw=0.5, c='C3', alpha=0.5, label = 'Input')\n",
    "        axs[0].set_yticks([])\n",
    "        axs[0].set_xticks([0, 20])\n",
    "        \n",
    "        #ax = plt.gca()\n",
    "        axs[0].spines['right'].set_visible(False)\n",
    "        axs[0].spines['top'].set_visible(False)\n",
    "        axs[0].spines['bottom'].set_visible(False)\n",
    "        axs[0].spines['left'].set_visible(False)\n",
    "        axs[0].tick_params(direction='out', length=6, width=1, colors='k', labelsize=8)\n",
    "        axs[0].set_ylabel(\"Rate\", fontsize=10, color='k')\n",
    "        \n",
    "        #plt.show()\n",
    "        \n",
    "        # KURAMOTO PLOT\n",
    "        kur = kuramoto(traces, smoothing=5)\n",
    "        \n",
    "        tlist_k = np.multiply(range(len(kur)),0.001)\n",
    "        #plt.figure(figsize=(3.7, 0.7), dpi=300)\n",
    "        #axk = plt.gca()\n",
    "        axs[1].plot(tlist_k[1100:-500], kur[1100:-500], c='k', lw=1.0, label = 'R')\n",
    "        axs[1].set_yticks([0, 1])\n",
    "        \n",
    "        axs[1].set_xticks([0, 20])\n",
    "        axs[1].set_ylim(-0.1, 1.1)\n",
    "\n",
    "        axs[1].spines['right'].set_visible(False)\n",
    "        axs[1].spines['top'].set_visible(False)\n",
    "        axs[1].spines['bottom'].set_visible(False)\n",
    "        axs[1].spines['left'].set_visible(False)\n",
    "        axs[1].tick_params(direction='out', length=6, width=1, colors='k', labelsize=8)\n",
    "        axs[1].set_ylabel(\"R\", fontsize=10, color='k')\n",
    "        axs[1].set_xlabel(\"Time [s]\", fontsize=10, color='k')\n",
    "        \n",
    "        plt.show()\n",
    "\n"
   ]
  },
  {
   "cell_type": "markdown",
   "metadata": {},
   "source": [
    "## Parallel processing"
   ]
  },
  {
   "cell_type": "code",
   "execution_count": null,
   "metadata": {
    "ExecuteTime": {
     "end_time": "2019-04-25T12:56:22.730216Z",
     "start_time": "2019-04-25T12:36:28.535039Z"
    },
    "collapsed": false
   },
   "outputs": [],
   "source": [
    "from joblib import Parallel, delayed\n",
    "import multiprocessing\n",
    "num_cores = multiprocessing.cpu_count()   "
   ]
  },
  {
   "cell_type": "code",
   "execution_count": null,
   "metadata": {
    "ExecuteTime": {
     "end_time": "2019-04-18T23:28:28.025333Z",
     "start_time": "2019-04-18T23:14:43.814600Z"
    },
    "collapsed": true
   },
   "outputs": [],
   "source": [
    "for measure in ['mean_kuramoto', 'std_kuramoto']:\n",
    "    print(\"Analysing measure: {}\".format(measure))\n",
    "    parallelResults = Parallel(n_jobs=num_cores)(delayed(analyse_run)(measure = measure, result = i) for i in tqdm.tqdm(runResults))\n",
    "    dfResults[measure] = parallelResults\n",
    "print(\"done.\")"
   ]
  },
  {
   "cell_type": "markdown",
   "metadata": {},
   "source": [
    "## Serial Processing"
   ]
  },
  {
   "cell_type": "code",
   "execution_count": null,
   "metadata": {
    "ExecuteTime": {
     "end_time": "2019-04-16T00:34:43.658884Z",
     "start_time": "2019-04-16T00:34:43.617601Z"
    },
    "collapsed": true
   },
   "outputs": [],
   "source": [
    "# ---- make a dictionary with results ----\n",
    "resultDicts = []\n",
    "\n",
    "#measures = ['domfr_exc', 'domfr_power_exc', 'max_exc', 'min_exc', 'updowndiff_exc', 'domfr_inh','domfr_power_inh', 'max_inh', 'min_inh', 'updowndiff_inh'] \n",
    "measures = ['std_kuramoto']\n",
    "\n",
    "for rInd in tqdm.tqdm(range(nResults), total=nResults):\n",
    "    print(rInd)\n",
    "    for measure in measures:\n",
    "        dfResults.loc[rInd, measure] = analyse_run(measure, runResults[rInd])    \n",
    "print(\"done.\")"
   ]
  },
  {
   "cell_type": "code",
   "execution_count": null,
   "metadata": {
    "ExecuteTime": {
     "end_time": "2019-05-29T12:37:35.448974Z",
     "start_time": "2019-05-29T12:37:35.392747Z"
    },
    "collapsed": false
   },
   "outputs": [],
   "source": [
    "import pickle\n",
    "\n",
    "file_path_p = os.path.join(paths.PICKLE_DIR, 'phase-entrainment-aln-adex-dfResults.p')\n",
    "# uncomment to save results\n",
    "#pickle.dump(dfResults, file(file_path_p, \"w\"))\n",
    "\n",
    "# load precomputed results\n",
    "#dfResults = pickle.load(file(file_path_p, \"r\"))"
   ]
  },
  {
   "cell_type": "markdown",
   "metadata": {},
   "source": [
    "## Calculate equivalent electric field strength"
   ]
  },
  {
   "cell_type": "code",
   "execution_count": null,
   "metadata": {
    "ExecuteTime": {
     "end_time": "2019-05-29T12:41:31.648484Z",
     "start_time": "2019-05-29T12:41:31.624200Z"
    },
    "collapsed": false
   },
   "outputs": [],
   "source": [
    "import aEIF_extended as IF_Models\n",
    "EIFNeuron = IF_Models.EIFModel()\n",
    "\n",
    "# DEFAULT VALUES\n",
    "# check if BS parameters C and gL match with the AdEx parameters\n",
    "print(\"aEIF C: {}\".format(params['C']*1e-12))\n",
    "print(\"aEIF gL: {}\".format(params['gL']*1e-9))\n",
    "\n",
    "#EIFNeuron.C_soma     = 1.0e-2  # Soma membrane capacitance (F / m2)\n",
    "#EIFNeuron.rhom_soma  = 28.0e-1  # Soma membrane resistivity (Ohm m2)\n",
    "#EIFNeuron.d_soma     = 10e-6   # Soma diameter ( m )\n",
    "\n",
    "EIFNeuron.d_dend      = 2.0e-6  # Dendritic tree diameter (m)\n",
    "EIFNeuron.L           = 1200.0e-6  # Dendritic tree length (m)\n",
    "\n",
    "EIFNeuron.updateParams()\n",
    "\n",
    "print(\"BS C: {}\".format(EIFNeuron.C_s))\n",
    "print(\"BS gL: {}\".format(EIFNeuron.gL))\n",
    "\n",
    "def current_for_adex(freq, EIFNeuron):\n",
    "    # impedance\n",
    "    z_adex = params['gL']*1e-9 * (1-1 * np.exp((-65-params['VT'])/params['DeltaT'])) + params['C']*1e-12 * 1j* 2*np.pi * freq\n",
    "    z_bs = EIFNeuron.gL * (1 - 1 * np.exp((-65e-3-EIFNeuron.VT)/EIFNeuron.deltaT)) +  EIFNeuron.C_s * 1j* 2*np.pi * freq\n",
    "\n",
    "    current = z_adex * EIFNeuron.polarizationTransfer(freq)\n",
    "    return np.abs(current)\n",
    "\n",
    "freq = 30\n",
    "print(\"{} pA\".format(current_for_adex(freq, EIFNeuron)*1e12))"
   ]
  },
  {
   "cell_type": "markdown",
   "metadata": {},
   "source": [
    "# Plot"
   ]
  },
  {
   "cell_type": "code",
   "execution_count": null,
   "metadata": {
    "ExecuteTime": {
     "end_time": "2019-05-29T12:41:39.300335Z",
     "start_time": "2019-05-29T12:41:32.401863Z"
    },
    "collapsed": false,
    "scrolled": false
   },
   "outputs": [],
   "source": [
    "models = np.unique(dfResults['model'])  \n",
    "points = np.unique(dfResults['load_point'])  \n",
    "\n",
    "for model in models:\n",
    "    for point in points:\n",
    "        print(\"{}: {}\".format(model, point))\n",
    "        mean_kurs = []\n",
    "        std_kurs = []\n",
    "        \n",
    "        selector = (dfResults.model==model) & (dfResults.load_point==point)\n",
    "        selectedResults = dfResults[selector]\n",
    "        selectIndices = selectedResults.index\n",
    "        \n",
    "        for i in range(len(selectedResults)):\n",
    "            mean_kurs.append(selectedResults.iloc[i]['mean_kuramoto'])\n",
    "            std_kurs.append(selectedResults.iloc[i]['std_kuramoto'])\n",
    "\n",
    "\n",
    "        freqs = np.unique(selectedResults['f_sin'])  \n",
    "        amps = np.unique(selectedResults['A_sin'])    \n",
    "\n",
    "\n",
    "        kuramoto_matrix = np.reshape(mean_kurs, (len(freqs), len(amps))).T\n",
    "        std_kuramoto_matrix = np.reshape(std_kurs, (len(freqs), len(amps))).T\n",
    "        \n",
    "        for with_field_amp in [True]: # draw lines with field amplitudes, yes and no\n",
    "\n",
    "            for matrix, label, simple_label in zip([kuramoto_matrix, std_kuramoto_matrix], ['mean(Kuramoto order)', 'std(Kuramoto order)'], ['mean', 'std']):\n",
    "                f_sin_range = freqs\n",
    "                A_sin_range = amps\n",
    "\n",
    "\n",
    "\n",
    "                plt.figure(figsize=(5, 4), dpi=300)\n",
    "                plt.imshow(matrix, cmap='inferno', origin='lower', aspect='auto', extent=[f_sin_range[0],\n",
    "                                                                                                   f_sin_range[-1],\n",
    "                                                                                                   A_sin_range[0]*200,\n",
    "                                                                                                   A_sin_range[-1]*200])\n",
    "                cbar = plt.colorbar(label=label)\n",
    "                #cbar = plt.colorbar().set_label(label=label,size=12)\n",
    "                cbar.ax.tick_params(labelsize=12) \n",
    "\n",
    "                xticknum = 5\n",
    "                yticknum = 6\n",
    "\n",
    "                plt.xlabel('Stimulus frequency [Hz]', fontsize=12)\n",
    "                plt.ylabel('Stimulus amplitude [pA]', fontsize=12)\n",
    "                if with_field_amp:\n",
    "                    efield_amps = [current_for_adex(f, EIFNeuron) for f in np.linspace(f_sin_range[0], f_sin_range[-1], 10)]\n",
    "                    efield_amps = np.multiply(efield_amps, 1e12)\n",
    "\n",
    "                    fields = [0.5]\n",
    "                    if model == 'brian':\n",
    "                        fields = [0.5, 1, 2]\n",
    "\n",
    "                    for vm in fields:\n",
    "                        plt.plot( np.linspace(f_sin_range[0], f_sin_range[-1], 10), np.multiply(efield_amps, vm), lw=2, c='white', ls='--')\n",
    "                        plt.text(f_sin_range[0]+(f_sin_range[-1]-f_sin_range[0])/2, efield_amps[6]*vm, '{} V/m'.format(vm), color='white', weight=\"bold\", rotation=1.5, ha='center', va='bottom')\n",
    "\n",
    "                if with_field_amp:\n",
    "                    fname = 'phase-entrainment-{}-{}-{}-kuramoto'.format(model, point, simple_label)\n",
    "                    print(\"Saving {}\".format(fname))\n",
    "                    for extension in ['png', 'svg', 'jpg']:\n",
    "                        plt.savefig(os.path.join(paths.FIGURES_DIR, \"{}.{}\".format(fname, extension)))\n",
    "\n",
    "                plt.show()\n",
    "\n"
   ]
  },
  {
   "cell_type": "markdown",
   "metadata": {},
   "source": [
    "## Plot traces"
   ]
  },
  {
   "cell_type": "code",
   "execution_count": null,
   "metadata": {
    "ExecuteTime": {
     "end_time": "2019-04-25T15:57:35.310842Z",
     "start_time": "2019-04-25T15:57:08.218483Z"
    },
    "collapsed": false,
    "scrolled": false
   },
   "outputs": [],
   "source": [
    "# aln: 1: 806, 2: 1912, 3: 1861, 4: 849\n",
    "plotpoints = [806, 1912, 1861, 849]\n",
    "for p in plotpoints:\n",
    "    print(dfResults.iloc[p])\n",
    "    analyse_run(measure='plot', result=runResults[p])"
   ]
  },
  {
   "cell_type": "code",
   "execution_count": null,
   "metadata": {
    "ExecuteTime": {
     "end_time": "2019-04-25T15:58:05.641783Z",
     "start_time": "2019-04-25T15:57:35.319841Z"
    },
    "collapsed": false,
    "scrolled": false
   },
   "outputs": [],
   "source": [
    "# adex, 1: 3113, 2: 4322, 3: 4460, 4:3202\n",
    "plotpoints = [3113, 4322, 4460, 3202]\n",
    "for p in plotpoints:\n",
    "    print(dfResults.iloc[p])\n",
    "    analyse_run(measure='plot', result=runResults[p])"
   ]
  }
 ],
 "metadata": {
  "kernelspec": {
   "display_name": "Python 2",
   "language": "python",
   "name": "python2"
  },
  "language_info": {
   "codemirror_mode": {
    "name": "ipython",
    "version": 2
   },
   "file_extension": ".py",
   "mimetype": "text/x-python",
   "name": "python",
   "nbconvert_exporter": "python",
   "pygments_lexer": "ipython2",
   "version": "2.7.13"
  },
  "toc": {
   "nav_menu": {},
   "number_sections": true,
   "sideBar": true,
   "skip_h1_title": false,
   "toc_cell": false,
   "toc_position": {
    "height": "948px",
    "left": "0px",
    "right": "1706.34px",
    "top": "106px",
    "width": "160px"
   },
   "toc_section_display": "block",
   "toc_window_display": true
  }
 },
 "nbformat": 4,
 "nbformat_minor": 2
}
